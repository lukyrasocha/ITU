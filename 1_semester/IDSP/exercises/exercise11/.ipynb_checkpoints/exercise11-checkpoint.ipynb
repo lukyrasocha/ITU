{
 "cells": [
  {
   "cell_type": "markdown",
   "metadata": {},
   "source": [
    "# NumPy"
   ]
  },
  {
   "cell_type": "markdown",
   "metadata": {},
   "source": [
    "NumPy is a python library used for working with (large) n-dimensional arrays. It can be used as you would Excel, operating quickly on rows and columns -- even when your amount of data is **MASSIVE** and would crash your computer if you tried to open it in Excel.\n",
    "\n",
    "It even has functions for working in the domains of linear algebra and matrix operations!"
   ]
  },
  {
   "cell_type": "code",
   "execution_count": 3,
   "metadata": {},
   "outputs": [],
   "source": [
    "import numpy as np"
   ]
  },
  {
   "cell_type": "markdown",
   "metadata": {},
   "source": [
    "## Creating and reshaping arrays"
   ]
  },
  {
   "cell_type": "markdown",
   "metadata": {},
   "source": [
    "### 11. 1. Create a one dimensional arrar of length 10 filled with integer zeros\n",
    "Hint: https://numpy.org/doc/stable/reference/generated/numpy.zeros.html\n",
    "\n",
    "```[0, 0, 0, 0, 0, 0, 0, 0, 0, 0]```"
   ]
  },
  {
   "cell_type": "code",
   "execution_count": 7,
   "metadata": {},
   "outputs": [
    {
     "data": {
      "text/plain": [
       "array([[0., 0., 0., 0., 0., 0., 0., 0., 0., 0.]])"
      ]
     },
     "execution_count": 7,
     "metadata": {},
     "output_type": "execute_result"
    }
   ],
   "source": [
    "np.zeros((1,10))"
   ]
  },
  {
   "cell_type": "markdown",
   "metadata": {},
   "source": [
    "### 11.2. Create a two dimensional array of size 3x5 filled with floating point ones\n",
    "Hint: https://numpy.org/doc/stable/reference/generated/numpy.ones.html\n",
    "\n",
    "```[[1., 1., 1., 1., 1.],\n",
    "  [1., 1., 1., 1., 1.],\n",
    "  [1., 1., 1., 1., 1.]]```"
   ]
  },
  {
   "cell_type": "code",
   "execution_count": 8,
   "metadata": {},
   "outputs": [
    {
     "data": {
      "text/plain": [
       "array([[1., 1., 1., 1., 1.],\n",
       "       [1., 1., 1., 1., 1.],\n",
       "       [1., 1., 1., 1., 1.]])"
      ]
     },
     "execution_count": 8,
     "metadata": {},
     "output_type": "execute_result"
    }
   ],
   "source": [
    "np.ones((3,5))"
   ]
  },
  {
   "cell_type": "markdown",
   "metadata": {},
   "source": [
    "### 11.3. Create a two dimensional array of size 3x5 filled with the float 3.14\n",
    "Hint: https://numpy.org/doc/stable/reference/generated/numpy.full.html#numpy.full\n",
    "\n",
    "```[[3.14, 3.14, 3.14, 3.14, 3.14],\n",
    "  [3.14, 3.14, 3.14, 3.14, 3.14],\n",
    "  [3.14, 3.14, 3.14, 3.14, 3.14]]```"
   ]
  },
  {
   "cell_type": "code",
   "execution_count": 9,
   "metadata": {},
   "outputs": [
    {
     "data": {
      "text/plain": [
       "array([[3.14, 3.14, 3.14, 3.14, 3.14],\n",
       "       [3.14, 3.14, 3.14, 3.14, 3.14],\n",
       "       [3.14, 3.14, 3.14, 3.14, 3.14]])"
      ]
     },
     "execution_count": 9,
     "metadata": {},
     "output_type": "execute_result"
    }
   ],
   "source": [
    "np.full((3,5),3.14)"
   ]
  },
  {
   "cell_type": "markdown",
   "metadata": {},
   "source": [
    "### 11.4. Create a 3x3 identity matrix\n",
    "Hint: https://numpy.org/doc/stable/reference/generated/numpy.identity.html\n",
    "\n",
    "```[[1. 0. 0.]\n",
    " [0. 1. 0.]\n",
    " [0. 0. 1.]]```"
   ]
  },
  {
   "cell_type": "code",
   "execution_count": 10,
   "metadata": {},
   "outputs": [
    {
     "data": {
      "text/plain": [
       "array([[1., 0., 0.],\n",
       "       [0., 1., 0.],\n",
       "       [0., 0., 1.]])"
      ]
     },
     "execution_count": 10,
     "metadata": {},
     "output_type": "execute_result"
    }
   ],
   "source": [
    "np.identity(3)"
   ]
  },
  {
   "cell_type": "markdown",
   "metadata": {},
   "source": [
    "### 11.5. Create a one dimensional array with 9 elements using numpy's range generator to fill the array with the values 1-9.\n",
    "Hint: https://numpy.org/doc/stable/reference/generated/numpy.arange.html\n",
    "\n",
    "```[1, 2, 3, 4, 5, 6, 7, 8, 9]```\n",
    "\n",
    "**!** Save the array under the variable ```A```"
   ]
  },
  {
   "cell_type": "code",
   "execution_count": 14,
   "metadata": {},
   "outputs": [
    {
     "data": {
      "text/plain": [
       "array([1, 2, 3, 4, 5, 6, 7, 8, 9])"
      ]
     },
     "execution_count": 14,
     "metadata": {},
     "output_type": "execute_result"
    }
   ],
   "source": [
    "A = np.arange(1,10)\n",
    "A"
   ]
  },
  {
   "cell_type": "markdown",
   "metadata": {},
   "source": [
    "### 11.6. Create a two dimensional array of size 3x3 by reshaping the array A\n",
    "Hint: https://numpy.org/doc/stable/reference/generated/numpy.reshape.html\n",
    "\n",
    "```[[1, 2, 3],\n",
    " [4, 5, 6],\n",
    " [7, 8, 9]]```\n",
    "\n",
    "**!** Save the array under the variable ``B``"
   ]
  },
  {
   "cell_type": "code",
   "execution_count": 17,
   "metadata": {},
   "outputs": [
    {
     "data": {
      "text/plain": [
       "array([[1, 2, 3],\n",
       "       [4, 5, 6],\n",
       "       [7, 8, 9]])"
      ]
     },
     "execution_count": 17,
     "metadata": {},
     "output_type": "execute_result"
    }
   ],
   "source": [
    "B = np.reshape(A, (3,3))\n",
    "B"
   ]
  },
  {
   "cell_type": "markdown",
   "metadata": {},
   "source": [
    "### 11.7. Create a two dimensional array of size 3x3 using numpy's random integer generator to fill the values in the array with numbers n, $0 \\leq n \\leq 10$\n",
    "\n",
    "Hint: https://numpy.org/doc/stable/reference/random/generated/numpy.random.randint.html\n",
    "\n",
    "```[[6, 5, 9],\n",
    "  [0, 6, 3],\n",
    "  [6, 4, 2]]```\n",
    "\n",
    "Example output -- remember the actual numbers $0 \\leq n \\leq 10$ will be random\n",
    "\n",
    "**!** Save the array under the variable ``C``"
   ]
  },
  {
   "cell_type": "code",
   "execution_count": 24,
   "metadata": {},
   "outputs": [
    {
     "data": {
      "text/plain": [
       "array([[9, 1, 9],\n",
       "       [8, 4, 9],\n",
       "       [4, 8, 5]])"
      ]
     },
     "execution_count": 24,
     "metadata": {},
     "output_type": "execute_result"
    }
   ],
   "source": [
    "C = np.random.randint(1,10,(3,3))\n",
    "C"
   ]
  },
  {
   "cell_type": "markdown",
   "metadata": {},
   "source": [
    "### 11.8. Create a three dimensional array of size 4x3x3 using numpy's random number generator to  fill the values in the array\n",
    "Hint: https://numpy.org/doc/stable/reference/random/generated/numpy.random.rand.html\n",
    "\n",
    "```[[[8.47479123e-04, 6.77383718e-01, 4.85670390e-01],\n",
    "   [4.83278589e-01, 6.15245314e-01, 2.11490849e-01],\n",
    "   [1.49347953e-01, 7.83983365e-01, 5.53822889e-01]],\n",
    "  [[3.04016610e-01, 6.25469077e-01, 6.48571722e-01],\n",
    "   [8.63629619e-01, 3.12534574e-01, 3.18482080e-01],\n",
    "   [4.55083532e-01, 9.85150456e-01, 4.84004643e-01]],\n",
    "  [[3.43469344e-01, 5.43381121e-01, 2.49079720e-01],\n",
    "   [6.04169755e-01, 5.95389658e-01, 5.19062476e-01],\n",
    "   [7.49293335e-01, 5.31758774e-01, 5.41012678e-01]],\n",
    "  [[4.55190187e-03, 4.95023710e-01, 9.22839467e-01],\n",
    "   [9.11154749e-01, 8.65357016e-01, 4.74276473e-01],\n",
    "   [2.86203208e-01, 4.75279571e-01, 7.51917714e-02]]] ```\n",
    "\n",
    "Example output -- remember the actual numbers $0 \\leq n < 1$ will be random"
   ]
  },
  {
   "cell_type": "code",
   "execution_count": 31,
   "metadata": {},
   "outputs": [
    {
     "data": {
      "text/plain": [
       "array([[[0.67866813, 0.79528993, 0.5221663 ],\n",
       "        [0.09184686, 0.7141573 , 0.31150004],\n",
       "        [0.7555886 , 0.75725317, 0.98666945]],\n",
       "\n",
       "       [[0.41177658, 0.8117601 , 0.97359176],\n",
       "        [0.035114  , 0.88797282, 0.13774354],\n",
       "        [0.03927617, 0.89367892, 0.72527429]],\n",
       "\n",
       "       [[0.93727492, 0.24738987, 0.6977586 ],\n",
       "        [0.9200628 , 0.7832943 , 0.50488296],\n",
       "        [0.69990326, 0.59590678, 0.87116514]],\n",
       "\n",
       "       [[0.26156063, 0.40729791, 0.77564798],\n",
       "        [0.09808671, 0.26474266, 0.96367424],\n",
       "        [0.26562717, 0.95035637, 0.49984071]]])"
      ]
     },
     "execution_count": 31,
     "metadata": {},
     "output_type": "execute_result"
    }
   ],
   "source": [
    "D = np.random.rand(4,3,3)\n",
    "D"
   ]
  },
  {
   "cell_type": "markdown",
   "metadata": {},
   "source": [
    "<font size = 4, color=green>*Do you see the pattern with dimensions and output format?*</font>"
   ]
  },
  {
   "cell_type": "markdown",
   "metadata": {},
   "source": [
    "## Indexing and slicing arrays\n",
    "\n",
    "Hints: https://www.pythoninformer.com/python-libraries/numpy/index-and-slice/"
   ]
  },
  {
   "cell_type": "markdown",
   "metadata": {},
   "source": [
    "### 11.9. From the one dimensional array, A, print elements from the index 2 to 4 using the array slice operations\n",
    "\n",
    "```[3, 4, 5]```"
   ]
  },
  {
   "cell_type": "code",
   "execution_count": 34,
   "metadata": {},
   "outputs": [
    {
     "data": {
      "text/plain": [
       "array([3, 4, 5])"
      ]
     },
     "execution_count": 34,
     "metadata": {},
     "output_type": "execute_result"
    }
   ],
   "source": [
    "A[2:5]"
   ]
  },
  {
   "cell_type": "markdown",
   "metadata": {},
   "source": [
    "### 11.10. From the two dimensional array, B, print the value of the 3rd element in the 2nd row using array indexing\n",
    "\n",
    "```6```"
   ]
  },
  {
   "cell_type": "code",
   "execution_count": 36,
   "metadata": {},
   "outputs": [
    {
     "data": {
      "text/plain": [
       "6"
      ]
     },
     "execution_count": 36,
     "metadata": {},
     "output_type": "execute_result"
    }
   ],
   "source": [
    "B[1,2]"
   ]
  },
  {
   "cell_type": "markdown",
   "metadata": {},
   "source": [
    "### 11.11. From the two dimensional array, B, print the first two elements of each row using array slicing\n",
    "```[[1, 2],\n",
    " [4, 5],\n",
    " [7, 8]]```"
   ]
  },
  {
   "cell_type": "code",
   "execution_count": 39,
   "metadata": {},
   "outputs": [
    {
     "data": {
      "text/plain": [
       "array([[1, 2],\n",
       "       [4, 5],\n",
       "       [7, 8]])"
      ]
     },
     "execution_count": 39,
     "metadata": {},
     "output_type": "execute_result"
    }
   ],
   "source": [
    "B[:,:2]"
   ]
  },
  {
   "cell_type": "markdown",
   "metadata": {},
   "source": [
    "### 11.12. Create a one dimensional null vector of size 10 and update first the 5th and then the 7th value to be 42 using array indexing\n",
    "\n",
    "Extra hint: exercise 11.1\n",
    "\n",
    "```[ 0.,  0.,  0.,  0., 42.,  0., 42.,  0.,  0.,  0.]```\n",
    "\n",
    "**!** Save the array under the variable ``D``"
   ]
  },
  {
   "cell_type": "code",
   "execution_count": 44,
   "metadata": {},
   "outputs": [
    {
     "data": {
      "text/plain": [
       "array([ 0.,  0.,  0.,  0., 42.,  0., 42.,  0.,  0.,  0.])"
      ]
     },
     "execution_count": 44,
     "metadata": {},
     "output_type": "execute_result"
    }
   ],
   "source": [
    "D = np.zeros(10)\n",
    "D[4] = 42\n",
    "D[6] = 42\n",
    "D"
   ]
  },
  {
   "cell_type": "markdown",
   "metadata": {},
   "source": [
    "## Working with arrays"
   ]
  },
  {
   "cell_type": "markdown",
   "metadata": {},
   "source": [
    "### 11.13. Find indices of non-zero elements from the array D\n",
    "Hint: https://numpy.org/doc/stable/reference/generated/numpy.nonzero.html\n",
    "\n",
    "```(array([4, 6]),)```"
   ]
  },
  {
   "cell_type": "code",
   "execution_count": 50,
   "metadata": {},
   "outputs": [
    {
     "data": {
      "text/plain": [
       "(array([4, 6]),)"
      ]
     },
     "execution_count": 50,
     "metadata": {},
     "output_type": "execute_result"
    }
   ],
   "source": [
    "np.where(D != 0)"
   ]
  },
  {
   "cell_type": "markdown",
   "metadata": {},
   "source": [
    "### 11.14. Find the overall minimum and maximum values of the array B\n",
    "\n",
    "Hints: \n",
    "- https://numpy.org/doc/stable/reference/generated/numpy.amin.html\n",
    "- https://numpy.org/doc/stable/reference/generated/numpy.amax.html\n",
    "\n",
    "Min: ```1```\n",
    "Max: ```9```"
   ]
  },
  {
   "cell_type": "code",
   "execution_count": 65,
   "metadata": {},
   "outputs": [
    {
     "data": {
      "text/plain": [
       "('Min:1', 'Max:9')"
      ]
     },
     "execution_count": 65,
     "metadata": {},
     "output_type": "execute_result"
    }
   ],
   "source": [
    "'Min:' + str(np.amin(B)), 'Max:' + str(np.amax(B))"
   ]
  },
  {
   "cell_type": "markdown",
   "metadata": {},
   "source": [
    "### 11.15 Find the minimum and maximum values in each row of the array B\n",
    "Hint: same as 11.4, but with axis\n",
    "\n",
    "Min: ```[1 4 7]```\n",
    "Max: ```[3 6 9]```"
   ]
  },
  {
   "cell_type": "code",
   "execution_count": 71,
   "metadata": {},
   "outputs": [
    {
     "data": {
      "text/plain": [
       "array([1, 4, 7])"
      ]
     },
     "execution_count": 71,
     "metadata": {},
     "output_type": "execute_result"
    }
   ],
   "source": [
    "np.amin(B, axis=1)"
   ]
  },
  {
   "cell_type": "code",
   "execution_count": 72,
   "metadata": {},
   "outputs": [
    {
     "data": {
      "text/plain": [
       "array([3, 6, 9])"
      ]
     },
     "execution_count": 72,
     "metadata": {},
     "output_type": "execute_result"
    }
   ],
   "source": [
    "np.amax(B, axis=1)"
   ]
  },
  {
   "cell_type": "markdown",
   "metadata": {},
   "source": [
    "### 11.15 Find the maximum and minimum values in each column of the array B\n",
    "Hint: same as 11.4, but with axis\n",
    "\n",
    "Min: ```[1 2 3]```\n",
    "Max: ```[7 8 9]```"
   ]
  },
  {
   "cell_type": "code",
   "execution_count": 73,
   "metadata": {},
   "outputs": [
    {
     "data": {
      "text/plain": [
       "array([1, 2, 3])"
      ]
     },
     "execution_count": 73,
     "metadata": {},
     "output_type": "execute_result"
    }
   ],
   "source": [
    "np.amin(B,axis=0)"
   ]
  },
  {
   "cell_type": "code",
   "execution_count": 75,
   "metadata": {},
   "outputs": [
    {
     "data": {
      "text/plain": [
       "array([[1, 2, 3],\n",
       "       [4, 5, 6],\n",
       "       [7, 8, 9]])"
      ]
     },
     "execution_count": 75,
     "metadata": {},
     "output_type": "execute_result"
    }
   ],
   "source": [
    "B"
   ]
  },
  {
   "cell_type": "code",
   "execution_count": 74,
   "metadata": {},
   "outputs": [
    {
     "data": {
      "text/plain": [
       "array([7, 8, 9])"
      ]
     },
     "execution_count": 74,
     "metadata": {},
     "output_type": "execute_result"
    }
   ],
   "source": [
    "np.amax(B,axis=0)"
   ]
  },
  {
   "cell_type": "markdown",
   "metadata": {},
   "source": [
    "### 11.16 Find the mean value of the whole array B\n",
    "Hint: https://numpy.org/doc/stable/reference/generated/numpy.mean.html\n",
    "\n",
    "```5.0```"
   ]
  },
  {
   "cell_type": "code",
   "execution_count": 80,
   "metadata": {},
   "outputs": [
    {
     "data": {
      "text/plain": [
       "5.0"
      ]
     },
     "execution_count": 80,
     "metadata": {},
     "output_type": "execute_result"
    }
   ],
   "source": [
    "np.mean(B)"
   ]
  },
  {
   "cell_type": "code",
   "execution_count": 79,
   "metadata": {},
   "outputs": [
    {
     "data": {
      "text/plain": [
       "5.0"
      ]
     },
     "execution_count": 79,
     "metadata": {},
     "output_type": "execute_result"
    }
   ],
   "source": [
    "B.mean()"
   ]
  },
  {
   "cell_type": "markdown",
   "metadata": {},
   "source": [
    "### 11.17. Check if any of the elements in the arrays B and C are equal\n",
    "Hint: https://numpy.org/doc/stable/reference/generated/numpy.equal.html\n",
    "\n",
    "```[[False, False, False],\n",
    "  [False, False,  True],\n",
    "  [False, False,  True]]```\n",
    "  \n",
    "Example output -- remember the array C is randomly generated so your result will be different"
   ]
  },
  {
   "cell_type": "code",
   "execution_count": 83,
   "metadata": {},
   "outputs": [
    {
     "data": {
      "text/plain": [
       "array([[False, False, False],\n",
       "       [False, False, False],\n",
       "       [False,  True, False]])"
      ]
     },
     "execution_count": 83,
     "metadata": {},
     "output_type": "execute_result"
    }
   ],
   "source": [
    "B == C"
   ]
  },
  {
   "cell_type": "markdown",
   "metadata": {},
   "source": [
    "###  11.18. In place, negate all elements in the array A which have a value greater than 6\n",
    "Hint: https://numpy.org/doc/stable/reference/generated/numpy.where.html\n",
    "\n",
    "```[ 1,  2,  3,  4,  5,  6, -7, -8, -9]```"
   ]
  },
  {
   "cell_type": "code",
   "execution_count": 89,
   "metadata": {},
   "outputs": [
    {
     "data": {
      "text/plain": [
       "array([ 1,  2,  3,  4,  5,  6, -7, -8, -9])"
      ]
     },
     "execution_count": 89,
     "metadata": {},
     "output_type": "execute_result"
    }
   ],
   "source": [
    "np.where(A < 7, A, -A) #so where A < 7, keep A, where it is not replace it with -A"
   ]
  },
  {
   "cell_type": "markdown",
   "metadata": {},
   "source": [
    "## Linear algebra"
   ]
  },
  {
   "cell_type": "markdown",
   "metadata": {},
   "source": [
    "### 11.19. Find the dot product of the arrays B and C (real matrix multiplication)\n",
    "Hint: https://numpy.org/doc/stable/reference/generated/numpy.dot.html\n",
    "\n",
    "```[[1, 2, 3],           [[3, 8, 4],             [[ 36,  23,  43]\n",
    "  [4, 5, 6],     ·      [3, 0, 6],       =      [ 81,  62, 100],\n",
    "  [7, 8, 9]]            [9, 5, 9]]              [126, 101, 157]]```\n",
    "\n",
    "Example output -- remember the array C is randomly generated so your result will be different"
   ]
  },
  {
   "cell_type": "code",
   "execution_count": 95,
   "metadata": {},
   "outputs": [
    {
     "data": {
      "text/plain": [
       "array([[ 37,  33,  42],\n",
       "       [100,  72, 111],\n",
       "       [163, 111, 180]])"
      ]
     },
     "execution_count": 95,
     "metadata": {},
     "output_type": "execute_result"
    }
   ],
   "source": [
    "np.dot(B,C)"
   ]
  },
  {
   "cell_type": "markdown",
   "metadata": {},
   "source": [
    "### 11.20. Find the determinant of the matrix B\n",
    "Hint: https://numpy.org/doc/stable/reference/generated/numpy.linalg.det.html\n",
    "\n",
    "```0.0```"
   ]
  },
  {
   "cell_type": "code",
   "execution_count": 97,
   "metadata": {},
   "outputs": [
    {
     "data": {
      "text/plain": [
       "0.0"
      ]
     },
     "execution_count": 97,
     "metadata": {},
     "output_type": "execute_result"
    }
   ],
   "source": [
    "np.linalg.det(B)"
   ]
  },
  {
   "cell_type": "markdown",
   "metadata": {},
   "source": [
    "### 11.21. Find the transpose of the matrix B\n",
    "Hint: https://numpy.org/doc/stable/reference/generated/numpy.transpose.html\n",
    "\n",
    "```[[1, 4, 7],\n",
    "  [2, 5, 8],\n",
    "  [3, 6, 9]]```"
   ]
  },
  {
   "cell_type": "code",
   "execution_count": 100,
   "metadata": {},
   "outputs": [
    {
     "data": {
      "text/plain": [
       "array([[1, 4, 7],\n",
       "       [2, 5, 8],\n",
       "       [3, 6, 9]])"
      ]
     },
     "execution_count": 100,
     "metadata": {},
     "output_type": "execute_result"
    }
   ],
   "source": [
    "np.transpose(B)"
   ]
  },
  {
   "cell_type": "markdown",
   "metadata": {},
   "source": [
    "### 11.22. Find the inverse of the matrix C (first check that its determinant is nonzero)\n",
    "Hint: https://numpy.org/doc/stable/reference/generated/numpy.transpose.html\n",
    "\n",
    "```[[-0.16129032, -0.27956989,  0.25806452],\n",
    "  [ 0.14516129, -0.0483871 , -0.03225806],\n",
    "  [ 0.08064516,  0.30645161, -0.12903226]```\n",
    "  \n",
    "Example output -- remember the array C is randomly generated so your result will be different"
   ]
  },
  {
   "cell_type": "code",
   "execution_count": 104,
   "metadata": {},
   "outputs": [
    {
     "name": "stdout",
     "output_type": "stream",
     "text": [
      "[[ 1.3   -1.675  0.675]\n",
      " [ 0.1   -0.225  0.225]\n",
      " [-1.2    1.7   -0.7  ]]\n"
     ]
    }
   ],
   "source": [
    "if np.linalg.det(C) != 0:\n",
    "    print(np.linalg.inv(C))"
   ]
  },
  {
   "cell_type": "code",
   "execution_count": null,
   "metadata": {},
   "outputs": [],
   "source": []
  }
 ],
 "metadata": {
  "kernelspec": {
   "display_name": "Python 3",
   "language": "python",
   "name": "python3"
  },
  "language_info": {
   "codemirror_mode": {
    "name": "ipython",
    "version": 3
   },
   "file_extension": ".py",
   "mimetype": "text/x-python",
   "name": "python",
   "nbconvert_exporter": "python",
   "pygments_lexer": "ipython3",
   "version": "3.8.2"
  }
 },
 "nbformat": 4,
 "nbformat_minor": 4
}
