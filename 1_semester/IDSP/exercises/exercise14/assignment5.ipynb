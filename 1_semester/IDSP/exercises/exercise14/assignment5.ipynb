{
 "cells": [
  {
   "cell_type": "markdown",
   "metadata": {},
   "source": [
    "# Assignment 5\n",
    "#### Due October 21, 2020, 23:59\n",
    "\n",
    "In this week's assignment, we will investigate a dataset through different types of plots, and use these plots to describe the properties of the dataset.\n",
    "\n",
    "We are going to investigate the famous iris dataset, a database of iris flowers. The dataset is given in the file `iris.data` which contains a collection of iris flowers, one flower per row, each described by four attributes and the class it belongs to:\n",
    "\n",
    "1. sepal length in cm\n",
    "2. sepal width in cm \n",
    "3. petal length in cm \n",
    "4. petal width in cm \n",
    "5. class:\n",
    "    - 0 = Iris Setosa\n",
    "    - 1 = Iris Versicolour\n",
    "    - 2 = Iris Virginica\n",
    "\n",
    "You can find more details on the dataset [here](https://archive.ics.uci.edu/ml/datasets/iris).\n",
    "\n",
    "![data description](img/iris.jpg)\n",
    "\n",
    "## Submission\n",
    "All exercises this week, apart from exercise 1, amount to plotting a figure. The libraries you will need are already given, any extra imports are not allowed.\n",
    "\n",
    "Implement your solution to each of the exercises in the code field below the exercise description.\n",
    "\n",
    "- Edit and turn in this jupyter notebook file containing your solutions to each task -- keep the name `assignment5.ipynb`.\n",
    "- Make sure that we are able to run the notebook by placing our own copy of `iris.data` inside the same folder as this notebook.\n",
    "\n",
    "## Assignment"
   ]
  },
  {
   "cell_type": "code",
   "execution_count": null,
   "metadata": {},
   "outputs": [],
   "source": [
    "import numpy as np\n",
    "import matplotlib.pyplot as plt\n",
    "import scipy.stats as stats"
   ]
  },
  {
   "cell_type": "markdown",
   "metadata": {},
   "source": [
    "### Exercise 1\n",
    "Let's start out by inspecting our data. Load the data from the file, `iris.data`, into a numpy array. \n",
    "\n",
    "Extract the features (sepal length, sepal width, petal length, and petal width) into a variable, `X`, and the class into a variable, `y`. Make sure to look at what kind of values are contained in `y`.\n",
    "\n",
    "**NB!** `iris.data` is formatted as a whitespace-delimited data file and can be loaded using `np.loadtxt()` with default parameters.\n",
    "___\n",
    "\n",
    "Shape of `X`: `(150,4)` \n",
    "Shape of `y`: `(150,)`"
   ]
  },
  {
   "cell_type": "code",
   "execution_count": null,
   "metadata": {},
   "outputs": [],
   "source": [
    "# your solution to exercise 1 here"
   ]
  },
  {
   "cell_type": "markdown",
   "metadata": {},
   "source": [
    "## Exercise 2\n",
    "When dealing with datasets we are often interested in the contained class distribution to observe if they are balanced or skewed. \n",
    "\n",
    "Plot a bar-plot that displays the frequency of each class of flower (0=Iris Setosa, 1=Iris Versicolor, and 2=Iris Virginica) to see if the classes are balanced. \n",
    "\n",
    "The plot **must** have named labels for the x and y axis, and a title. The labels on the x-axis should be the actual name of the class, not the integer representation."
   ]
  },
  {
   "cell_type": "code",
   "execution_count": null,
   "metadata": {},
   "outputs": [],
   "source": [
    "# your solution to exercise 2 here"
   ]
  },
  {
   "cell_type": "markdown",
   "metadata": {},
   "source": [
    "## Exercise 3\n",
    "We'd like to investigate how the features of each flower distribute within each class. \n",
    "\n",
    "For each of the three classes of flower, plot a histogram for each feature (sepal length, sepal width, petal length, and petal width). Also, for each histogram, fit a normal distribution to the data, and plot it on top of the histogram. \n",
    "\n",
    "This should amount to 3x4 figures. \n",
    "\n",
    "The plots **must** have named labels for the x and y axis, and a title.\n",
    "___\n",
    "\n",
    "Example of a single unrelated histogram plot with its normal distribution plotted on top (missing axis labels and title):\n",
    "\n",
    "<img src=\"img/hist.png\" align=\"left\" width=\"300\">"
   ]
  },
  {
   "cell_type": "code",
   "execution_count": null,
   "metadata": {},
   "outputs": [],
   "source": [
    "# your solution to exercise 3 here"
   ]
  },
  {
   "cell_type": "markdown",
   "metadata": {},
   "source": [
    "## Exercise 4\n",
    "Now that we know how the features are distributed across classes and features we'd like to visually inspect how these features relate across classes. \n",
    "\n",
    "Extract the samples that belong to the two classes 0 and 1 (Iris Setosa and Iris Versicolor) and create a scatter-plot of the sepal values (feature 1 and 2) for the two classes in **one** plot. Then fit a regression line to each of the classes and plot the line on top of the scatter plot. Give the two classes different colors so that you can easily distinguish the different samples. \n",
    "\n",
    "The plot **must** have named labels for the x-axis, y-axis, a title, and a legend.\n",
    "\n",
    "Hint: To produce the regression line use `stats.linregress`\n",
    "___\n",
    "\n",
    "Example with three classes plotted for the features 1 and 3 -- yours should only have the two classes, Setosa and Versicolor, and they should be plotted for the features 1 and 2.\n",
    "\n",
    "<img src=\"img/scatter.png\" align=\"left\" width=\"350\">"
   ]
  },
  {
   "cell_type": "code",
   "execution_count": null,
   "metadata": {},
   "outputs": [],
   "source": [
    "# Your solution to exercise 4 here"
   ]
  }
 ],
 "metadata": {
  "kernelspec": {
   "display_name": "Python 3",
   "language": "python",
   "name": "python3"
  },
  "language_info": {
   "codemirror_mode": {
    "name": "ipython",
    "version": 3
   },
   "file_extension": ".py",
   "mimetype": "text/x-python",
   "name": "python",
   "nbconvert_exporter": "python",
   "pygments_lexer": "ipython3",
   "version": "3.8.2"
  }
 },
 "nbformat": 4,
 "nbformat_minor": 4
}
