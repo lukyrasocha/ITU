{
 "cells": [
  {
   "cell_type": "code",
   "execution_count": 15,
   "metadata": {},
   "outputs": [],
   "source": [
    "import numpy as np\n",
    "import matplotlib.pyplot as plt\n",
    "import re\n",
    "import scipy.stats as stats\n",
    "%matplotlib inline  "
   ]
  },
  {
   "cell_type": "markdown",
   "metadata": {},
   "source": [
    "# A Data Riddle"
   ]
  },
  {
   "cell_type": "markdown",
   "metadata": {},
   "source": [
    "The Riddler is a weekly column at [fivethirtyeight](https://fivethirtyeight.com/), where they offer puzzles on maths, logic and probability. These puzzles are often solved using data analysis approaches. \n",
    "\n",
    "The following puzzle could originally be found [here](https://fivethirtyeight.com/features/are-you-the-best-warlord/). The puzzle received submissions from around 1500 users, and their submissions are available [here](https://github.com/fivethirtyeight/data/blob/master/riddler-castles/castle-solutions-3.csv)."
   ]
  },
  {
   "cell_type": "markdown",
   "metadata": {},
   "source": [
    "___\n",
    "#### Are you The Best Warlord?\n",
    "\n",
    "In a distant, war-torn land, there are two warlords: you and your archenemy.\n",
    "\n",
    "In this land, there are ten castles. Each castle has its own strategic value for a would-be conqueror. Specifically, the castles are worth 1, 2, 3, …, 9, and 10 victory points (corresponding to the castle number).\n",
    "\n",
    "You and your enemy each have 100 soldiers to distribute, any way you like, to fight at any of the ten castles. Whoever sends more soldiers to a given castle conquers that castle and wins its victory points. If you each send the same number of troops, you split the points. \n",
    "\n",
    "You don’t know what distribution of forces your enemy has chosen until the battles begin. Whoever wins the most points wins the war.\n",
    "___"
   ]
  },
  {
   "cell_type": "markdown",
   "metadata": {},
   "source": [
    "In the exercises for today you will be working with these submitted solutions to the puzzle, which can be found in `submissions.txt`.\n",
    "\n",
    "The file has the following variables:\n",
    "\n",
    "| Column index | Variable | Definition |\n",
    "| -:- | :- | :- | \n",
    "| 0 | Castle 1 | The number of troops deployed to the castle |\n",
    "| 1 | Castle 2 | The number of troops deployed to the castle |\n",
    "| 2 | Castle 3 | The number of troops deployed to the castle |\n",
    "| 3 | Castle 4 | The number of troops deployed to the castle |\n",
    "| 4 | Castle 5 | The number of troops deployed to the castle |\n",
    "| 5 | Castle 6 | The number of troops deployed to the castle |\n",
    "| 6 | Castle 7 | The number of troops deployed to the castle |\n",
    "| 7 | Castle 8 | The number of troops deployed to the castle |\n",
    "| 8 | Castle 9 | The number of troops deployed to the castle |\n",
    "| 9 | Castle 10 | The number of troops deployed to the castle |\n",
    "| 10 | Why did you choose your troop deployment? | String containing the reasoning behind the submission |\n"
   ]
  },
  {
   "cell_type": "markdown",
   "metadata": {},
   "source": [
    "## 13.0 Load the data and convert it to a numpy array\n",
    "Inspect the `submissions.txt` file and read through the provided function below to understand what each line does\n",
    "\n",
    "Once you've done that, apply the function to the `submissions.txt` file and convert the resulting data structure into a numpy array which you will use for the rest of the exercises."
   ]
  },
  {
   "cell_type": "code",
   "execution_count": 16,
   "metadata": {},
   "outputs": [],
   "source": [
    "def read_csv(filepath):\n",
    "    output = []\n",
    "    regex = \"^\\d+,\\d+,\\d+,\\d+,\\d+,\\d+,\\d+,\\d+,\\d+,\\d+\"\n",
    "    with open(filepath, \"r\", errors=\"replace\") as file:\n",
    "        lines = file.readlines()\n",
    "    for line in lines:\n",
    "        regex_find = re.search(regex,line)\n",
    "        if regex_find:\n",
    "            line = regex_find.group() \n",
    "            line = line.split(\",\") \n",
    "            line = [int(value) for value in line]\n",
    "            output.append(line)\n",
    "    return output"
   ]
  },
  {
   "cell_type": "code",
   "execution_count": 17,
   "metadata": {
    "scrolled": true
   },
   "outputs": [],
   "source": [
    "data = read_csv('submissions.txt')\n",
    "data = np.array(data)"
   ]
  },
  {
   "cell_type": "markdown",
   "metadata": {},
   "source": [
    "#### 13.1\n",
    "Extract the rows where the sum of the row is 100.\n",
    "\n",
    "\n",
    "There are `140` rows where the sum is not equal to 100 so the final shape of the array should be `(1321,10)` after extracting the rows where the sum is 100.\n",
    "\n",
    "\n"
   ]
  },
  {
   "cell_type": "code",
   "execution_count": 28,
   "metadata": {},
   "outputs": [
    {
     "name": "stdout",
     "output_type": "stream",
     "text": [
      "[[ 2  2  2 ... 28 36  2]\n",
      " [ 1  1  1 ...  1  1  1]\n",
      " [ 2  3  4 ... 22 22  8]\n",
      " ...\n",
      " [ 0  1  2 ...  1 32 22]\n",
      " [ 0  0  3 ... 21  4 31]\n",
      " [ 1  0  0 ... 27 29 33]]\n"
     ]
    }
   ],
   "source": [
    "data = data[np.sum(data,axis=1) == 100]\n",
    "print(np.array(data))"
   ]
  },
  {
   "cell_type": "code",
   "execution_count": 26,
   "metadata": {},
   "outputs": [
    {
     "name": "stdout",
     "output_type": "stream",
     "text": [
      "[[ 2  2  2 ... 28 36  2]\n",
      " [ 1  1  1 ...  1  1  1]\n",
      " [ 2  3  4 ... 22 22  8]\n",
      " ...\n",
      " [ 0  1  2 ...  1 32 22]\n",
      " [ 0  0  3 ... 21  4 31]\n",
      " [ 1  0  0 ... 27 29 33]]\n"
     ]
    }
   ],
   "source": [
    "newdata = []\n",
    "for i in data:\n",
    "    if(sum(i) == 100):\n",
    "        newdata.append(i)\n",
    "       \n",
    "print(np.array(newdata))"
   ]
  },
  {
   "cell_type": "code",
   "execution_count": 11,
   "metadata": {},
   "outputs": [
    {
     "data": {
      "text/plain": [
       "(1461, 10)"
      ]
     },
     "execution_count": 11,
     "metadata": {},
     "output_type": "execute_result"
    }
   ],
   "source": [
    "data.shape"
   ]
  },
  {
   "cell_type": "markdown",
   "metadata": {},
   "source": [
    "## 13.2. Find the mean and standard deviation of each castle's number of deployed troops\n",
    "Hint: Check the jupyter notebook from today's lecture.\n",
    "\n",
    "For each castle, fit the distribution as a normal distribution (using `stats.norm.fit`) and obtain its mean, `mu`, and standard deviation, `sigma`. \n",
    "\n",
    "For `Castle 1`, at column 0, you should get mu `2.025` and sigma `3.875`."
   ]
  },
  {
   "cell_type": "code",
   "execution_count": 12,
   "metadata": {},
   "outputs": [
    {
     "data": {
      "text/plain": [
       "(2.024640657084189, 3.8752900963452532)"
      ]
     },
     "execution_count": 12,
     "metadata": {},
     "output_type": "execute_result"
    }
   ],
   "source": [
    "rawdata = stats.norm.fit(data[:,0])\n",
    "cleaneddata = stats.norm.fit(data[:,0])"
   ]
  },
  {
   "cell_type": "markdown",
   "metadata": {},
   "source": [
    "#### 13.3\n",
    "For the castle with the highest mean value, plot the histogram and the corresponding normal distribution obtained using `stats.norm.fit`.\n",
    "\n",
    "Hint: Check the lecture jupyter notebook\n",
    "\n"
   ]
  },
  {
   "cell_type": "code",
   "execution_count": 83,
   "metadata": {
    "scrolled": true
   },
   "outputs": [
    {
     "name": "stdout",
     "output_type": "stream",
     "text": [
      "[1.9386828160484482, 2.659348978046934, 4.05450416351249, 6.9182437547312645, 9.168811506434519, 12.009084027252081, 13.500378501135504, 16.89023467070401, 17.3111279333838, 15.549583648750946]\n",
      "8\n"
     ]
    },
    {
     "data": {
      "image/png": "[encoded data removed]",
      "text/plain": [
       "<Figure size 432x288 with 1 Axes>"
      ]
     },
     "metadata": {
      "needs_background": "light"
     },
     "output_type": "display_data"
    }
   ],
   "source": [
    "means = []\n",
    "means2 = []\n",
    "for i in range(10): #10 castles\n",
    "    means.append(sum(data[:,i])/len(data[:,i]))\n",
    "    means2.append(stats.norm.fit(data[:,i])[0])\n",
    "print(means)\n",
    "#print(means2)\n",
    "plt.hist(data[:,8])\n",
    "print(means.index(max(means)))\n"
   ]
  },
  {
   "cell_type": "markdown",
   "metadata": {},
   "source": [
    "#### 13.4\n",
    "\n",
    "For the castle with the lowest standard deviation value,  plot the histogram and the corresponding normal distribution obtained using `stats.norm.fit`.\n",
    "\n",
    "Hint: Check the lecture jupyter notebook\n"
   ]
  },
  {
   "cell_type": "code",
   "execution_count": 81,
   "metadata": {},
   "outputs": [
    {
     "name": "stdout",
     "output_type": "stream",
     "text": [
      "1\n"
     ]
    },
    {
     "data": {
      "text/plain": [
       "[3.7038385992768035,\n",
       " 2.969528192097987,\n",
       " 3.88849851052227,\n",
       " 5.775851627058807,\n",
       " 7.168109786141741,\n",
       " 8.191772750517364,\n",
       " 9.665967276972726,\n",
       " 10.730653384085983,\n",
       " 12.827426332981574,\n",
       " 13.387968495341385]"
      ]
     },
     "execution_count": 81,
     "metadata": {},
     "output_type": "execute_result"
    },
    {
     "data": {
      "image/png": "[encoded data removed]",
      "text/plain": [
       "<Figure size 432x288 with 1 Axes>"
      ]
     },
     "metadata": {
      "needs_background": "light"
     },
     "output_type": "display_data"
    }
   ],
   "source": [
    "standarddeviation = []\n",
    "for i in range(10): #10 castles\n",
    "    standarddeviation.append(stats.norm.fit(data[:,i])[1])\n",
    "plt.hist(data[:,0])\n",
    "print(standarddeviation.index(min(standarddeviation)))\n",
    "\n",
    "standarddeviation\n"
   ]
  },
  {
   "cell_type": "markdown",
   "metadata": {},
   "source": [
    "#### 13.5\n",
    "For the castle with the highest standard deviation value,  plot the histogram and the corresponding normal distribution obtained using `stats.norm.fit`.\n",
    "\n",
    "Hint: Check the lecture jupyter notebook\n"
   ]
  },
  {
   "cell_type": "code",
   "execution_count": 85,
   "metadata": {},
   "outputs": [
    {
     "name": "stdout",
     "output_type": "stream",
     "text": [
      "9\n"
     ]
    },
    {
     "data": {
      "image/png": "[encoded data removed]",
      "text/plain": [
       "<Figure size 432x288 with 1 Axes>"
      ]
     },
     "metadata": {
      "needs_background": "light"
     },
     "output_type": "display_data"
    }
   ],
   "source": [
    "plt.hist(data[:,9])\n",
    "print(standarddeviation.index(max(standarddeviation)))"
   ]
  },
  {
   "cell_type": "markdown",
   "metadata": {},
   "source": [
    "#### 13.6\n",
    "\n",
    "Plot the Q-Q plots and verify, and if the above data distributions are good fits as normal distribution \n",
    "\n",
    "Hint: Check the lecture jupyter notebook\n"
   ]
  },
  {
   "cell_type": "code",
   "execution_count": 95,
   "metadata": {},
   "outputs": [
    {
     "data": {
      "image/png": "[encoded data removed]",
      "text/plain": [
       "<Figure size 432x288 with 1 Axes>"
      ]
     },
     "metadata": {
      "needs_background": "light"
     },
     "output_type": "display_data"
    },
    {
     "data": {
      "image/png": "[encoded data removed]",
      "text/plain": [
       "<Figure size 432x288 with 1 Axes>"
      ]
     },
     "metadata": {
      "needs_background": "light"
     },
     "output_type": "display_data"
    },
    {
     "data": {
      "image/png": "[encoded data removed]",
      "text/plain": [
       "<Figure size 432x288 with 1 Axes>"
      ]
     },
     "metadata": {
      "needs_background": "light"
     },
     "output_type": "display_data"
    }
   ],
   "source": [
    "import statsmodels.api as sm \n",
    "import pylab as py\n",
    "\n",
    "#sm.qqplot(data[:,0]) \n",
    "#sm.qqplot(data[:,1]) \n",
    "#sm.qqplot(data[:,9]) \n",
    "stats.probplot(data[:,0], plot=plt)\n",
    "plt.show()\n",
    "stats.probplot(data[:,1], plot=plt)\n",
    "plt.show()\n",
    "stats.probplot(data[:,9], plot=plt)\n",
    "py.show()"
   ]
  },
  {
   "cell_type": "markdown",
   "metadata": {},
   "source": [
    "#### 13.7 \n",
    "Find the mode(s) and median for each of the castle\n",
    "\n",
    "Hint: https://docs.scipy.org/doc/scipy/reference/generated/scipy.stats.mode.html\n",
    "\n",
    "Hint 2: https://numpy.org/doc/stable/reference/generated/numpy.median.html\n"
   ]
  },
  {
   "cell_type": "code",
   "execution_count": 112,
   "metadata": {},
   "outputs": [
    {
     "name": "stdout",
     "output_type": "stream",
     "text": [
      "ModeResult(mode=array([[ 1,  1,  1,  1,  0,  0,  0, 15,  0,  0]]), count=array([[476, 328, 225, 160, 137, 115, 122,  82,  93, 128]]))\n",
      "[ 1.  2.  3.  6.  9. 12. 14. 18. 18. 15.]\n"
     ]
    }
   ],
   "source": [
    "print(stats.mode(data))\n",
    "print(np.median(data, axis=0))"
   ]
  },
  {
   "cell_type": "markdown",
   "metadata": {},
   "source": [
    "#### 13.8\n",
    "For each submission (a row), compare it with every other row and calculate (roughly $1500 \\times 1500$ comparisons) the score for each player in each of the comparison"
   ]
  },
  {
   "cell_type": "code",
   "execution_count": 113,
   "metadata": {},
   "outputs": [],
   "source": [
    "score = np.zeros((len(data),(len(data))))\n",
    "for i, row in enumerate(data):\n",
    "    for j, row2 in enumerate(data.copy()): # dont think it is necessary to copy but did it just in case\n",
    "        scorei = 0\n",
    "        scorej = 0\n",
    "        for k in range(10):\n",
    "            if row[k] > row2[k]:\n",
    "                scorei += k\n",
    "            elif row[k] == row2[k]:\n",
    "                scorei += k/2\n",
    "                scorej += k/2\n",
    "            else:\n",
    "                scorej += k\n",
    "        score[i,j] = scorei # don't need to add scorej since it is calculated again later and added as scorei\n"
   ]
  },
  {
   "cell_type": "markdown",
   "metadata": {},
   "source": [
    " #### 13.9\n",
    " \n",
    " Calculate the number of wins, losses and ties for each of the submissions."
   ]
  },
  {
   "cell_type": "code",
   "execution_count": 119,
   "metadata": {},
   "outputs": [
    {
     "data": {
      "text/plain": [
       "array([[ 754,   17,  550],\n",
       "       [ 274,   25, 1022],\n",
       "       [ 793,   22,  506],\n",
       "       ...,\n",
       "       [ 859,   29,  433],\n",
       "       [ 827,   33,  461],\n",
       "       [ 853,   32,  436]])"
      ]
     },
     "execution_count": 119,
     "metadata": {},
     "output_type": "execute_result"
    }
   ],
   "source": [
    "results"
   ]
  },
  {
   "cell_type": "code",
   "execution_count": 115,
   "metadata": {},
   "outputs": [],
   "source": [
    "results = []\n",
    "for i, row in enumerate(score):\n",
    "    result = [0,0,0] # wins, draws, losses\n",
    "    for j, res in enumerate(row):\n",
    "        if res > score[j,i]:\n",
    "            result[0] += 1\n",
    "        elif res < score[j,i]:\n",
    "            result[2] += 1\n",
    "        else:\n",
    "            result[1] += 1\n",
    "    results.append(result)\n",
    "results=np.array(results)"
   ]
  },
  {
   "cell_type": "markdown",
   "metadata": {},
   "source": [
    "#### 13.10\n",
    "Plot the histogram based on the number of wins per submission"
   ]
  },
  {
   "cell_type": "code",
   "execution_count": 123,
   "metadata": {},
   "outputs": [
    {
     "name": "stdout",
     "output_type": "stream",
     "text": [
      "\n"
     ]
    },
    {
     "data": {
      "image/png": "[encoded data removed]",
      "text/plain": [
       "<Figure size 432x288 with 1 Axes>"
      ]
     },
     "metadata": {
      "needs_background": "light"
     },
     "output_type": "display_data"
    }
   ],
   "source": [
    "plt.hist(results[:,0])\n",
    "print()"
   ]
  },
  {
   "cell_type": "markdown",
   "metadata": {},
   "source": [
    "#### 13.11\n",
    "\n",
    "Plot the histogram based on the number of losses per submission\n"
   ]
  },
  {
   "cell_type": "code",
   "execution_count": 124,
   "metadata": {},
   "outputs": [
    {
     "name": "stdout",
     "output_type": "stream",
     "text": [
      "\n"
     ]
    },
    {
     "data": {
      "image/png": "[encoded data removed]",
      "text/plain": [
       "<Figure size 432x288 with 1 Axes>"
      ]
     },
     "metadata": {
      "needs_background": "light"
     },
     "output_type": "display_data"
    }
   ],
   "source": [
    "plt.hist(results[:,2])\n",
    "print()"
   ]
  },
  {
   "cell_type": "markdown",
   "metadata": {},
   "source": [
    "#### 13.12\n",
    "Check if the distributions in exercise 13.10 or 13.11 follows a normal distribution\n",
    "\n",
    "Hint: plot a QQ plot (check the lecture notebook)"
   ]
  },
  {
   "cell_type": "code",
   "execution_count": null,
   "metadata": {},
   "outputs": [],
   "source": [
    "see 13.6"
   ]
  },
  {
   "cell_type": "markdown",
   "metadata": {},
   "source": [
    "#### 13.13\n",
    "\n",
    "Find top 5 submissions based on their number of wins."
   ]
  },
  {
   "cell_type": "code",
   "execution_count": 12,
   "metadata": {},
   "outputs": [
    {
     "data": {
      "text/plain": [
       "array([[ 470,  101,  363],\n",
       "       [1222, 1291,  112],\n",
       "       [ 178,   19,  122],\n",
       "       [ 805,  434,  647],\n",
       "       [ 609, 1282, 1175]])"
      ]
     },
     "execution_count": 12,
     "metadata": {},
     "output_type": "execute_result"
    }
   ],
   "source": [
    "# This returns the indices that would sort the list. Use them to index into the data to find the submission\n",
    "\n",
    "(results).argsort(axis=0)[-5:,:]\n"
   ]
  },
  {
   "cell_type": "markdown",
   "metadata": {},
   "source": [
    "NOTE: I think the rest of the exercises should be bonus or removed"
   ]
  },
  {
   "cell_type": "markdown",
   "metadata": {},
   "source": [
    "- Consider the discrete data distrubtions (column vector for each castle) and the corresponding normal distribution obtained using `stats.norm.fit`\n",
    "- Consider the submission with the highest number of wins\n",
    "- FOr each entry in the submission, calcualte its probability from the corresponding discrete data distribution\n",
    "- For each entry in the submission, calculatte its  probability from the corresponding normal distribution, obtained using `stats.norm.fit`\n",
    "- For each entry, calculate the differences of the corresponding probabilities (data distribution and the normal distribution obtained) for each castle."
   ]
  },
  {
   "cell_type": "code",
   "execution_count": null,
   "metadata": {},
   "outputs": [],
   "source": []
  },
  {
   "cell_type": "markdown",
   "metadata": {},
   "source": [
    "\n",
    "\n",
    "- You are required to generatet 2000 different submissions, one each for a minion, where each submission is a vector of 10 integers, randomly sampled from a normal distribution.\n",
    "\n",
    "    - In reality, it is not possible to generate vectors as decribe in the question above. Could you reason why?"
   ]
  },
  {
   "cell_type": "code",
   "execution_count": null,
   "metadata": {},
   "outputs": [],
   "source": []
  },
  {
   "cell_type": "markdown",
   "metadata": {},
   "source": [
    "### Detour from warlords: Being both rounded and normal.\n",
    "\n",
    "- Sample 100000 entries from a normal distribution.\n",
    "- Round off each draw to the nearest integer.\n",
    "- Check if the resulting disttribution is also normal\n"
   ]
  },
  {
   "cell_type": "code",
   "execution_count": null,
   "metadata": {},
   "outputs": [],
   "source": []
  }
 ],
 "metadata": {
  "kernelspec": {
   "display_name": "Python 3",
   "language": "python",
   "name": "python3"
  },
  "language_info": {
   "codemirror_mode": {
    "name": "ipython",
    "version": 3
   },
   "file_extension": ".py",
   "mimetype": "text/x-python",
   "name": "python",
   "nbconvert_exporter": "python",
   "pygments_lexer": "ipython3",
   "version": "3.8.2"
  }
 },
 "nbformat": 4,
 "nbformat_minor": 4
}
