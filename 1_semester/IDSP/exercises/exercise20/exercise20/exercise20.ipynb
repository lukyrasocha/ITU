{
 "cells": [
  {
   "cell_type": "markdown",
   "metadata": {},
   "source": [
    "# Exercise 20\n",
    "\n",
    "- Using the networkx `Graph` class and assocated methods developed in the class, solve the following exercise questions."
   ]
  },
  {
   "cell_type": "code",
   "execution_count": 198,
   "metadata": {},
   "outputs": [],
   "source": [
    "import networkx as nx\n",
    "import matplotlib.pyplot as plt\n",
    "import random\n",
    "import numpy as np"
   ]
  },
  {
   "cell_type": "markdown",
   "metadata": {},
   "source": [
    "### 20.1\n",
    "Inspect the the \"Zachary Karate Club\" dataset from `karate.txt` file (in the `material` folder). What type of dataset is it?"
   ]
  },
  {
   "cell_type": "code",
   "execution_count": 199,
   "metadata": {},
   "outputs": [
    {
     "name": "stdout",
     "output_type": "stream",
     "text": [
      "0 31\r\n",
      "0 21\r\n",
      "0 19\r\n",
      "0 17\r\n",
      "0 13\r\n",
      "0 12\r\n",
      "0 11\r\n",
      "0 10\r\n",
      "0 8\r\n",
      "0 7\r\n"
     ]
    }
   ],
   "source": [
    "!head material/karate.txt\n",
    "#If this throws an error, try using !type instead of !head (although !type prints the whole file).\n",
    "#You might also have to switch out the \\ for a /."
   ]
  },
  {
   "cell_type": "markdown",
   "metadata": {},
   "source": [
    "### 20.2\n",
    "- Make a function to load a file and return a `Graph` object, **without using `nx.from_edgelist()`**. Make node names `integers` and not `strings`.\n",
    "- Load `karate.txt` into a `Graph` `G1`.\n",
    "Hint: `G.add_edge(v1, v2)` adds the nodes `v1` and `v2` to the graph if they do not already exist."
   ]
  },
  {
   "cell_type": "code",
   "execution_count": 200,
   "metadata": {},
   "outputs": [
    {
     "data": {
      "text/plain": [
       "EdgeView([(0, 31), (0, 21), (0, 19), (0, 17), (0, 13), (0, 12), (0, 11), (0, 10), (0, 8), (0, 7), (0, 6), (0, 5), (0, 4), (0, 3), (0, 2), (0, 1), (31, 24), (31, 25), (31, 28), (31, 33), (31, 32), (21, 1), (19, 1), (19, 33), (17, 1), (13, 1), (13, 2), (13, 3), (13, 33), (12, 3), (10, 4), (10, 5), (8, 2), (8, 33), (8, 32), (8, 30), (7, 1), (7, 2), (7, 3), (6, 4), (6, 5), (6, 16), (5, 16), (3, 1), (3, 2), (2, 1), (2, 32), (2, 28), (2, 27), (2, 9), (1, 30), (30, 33), (30, 32), (32, 14), (32, 15), (32, 18), (32, 20), (32, 22), (32, 23), (32, 29), (32, 33), (28, 33), (27, 23), (27, 24), (27, 33), (9, 33), (33, 14), (33, 15), (33, 18), (33, 20), (33, 22), (33, 23), (33, 26), (33, 29), (23, 29), (23, 25), (29, 26), (25, 24)])"
      ]
     },
     "execution_count": 200,
     "metadata": {},
     "output_type": "execute_result"
    }
   ],
   "source": [
    "def from_edgelist(filepath):\n",
    "    #Your function here\n",
    "    with open(filepath) as f:\n",
    "        G = nx.Graph()\n",
    "        data = f.readlines()\n",
    "        for i in data:\n",
    "            x = i.strip().split(' ')\n",
    "            G.add_edge(int(x[0]),int(x[1]))    \n",
    "    return G\n",
    "\n",
    "\n",
    "G1 = from_edgelist(\"material/karate.txt\") #You might have to switch out / for \\.\n",
    "G1.edges()"
   ]
  },
  {
   "cell_type": "markdown",
   "metadata": {},
   "source": [
    "The following line should return `True` if your code is correct:"
   ]
  },
  {
   "cell_type": "code",
   "execution_count": 201,
   "metadata": {},
   "outputs": [
    {
     "data": {
      "text/plain": [
       "True"
      ]
     },
     "execution_count": 201,
     "metadata": {},
     "output_type": "execute_result"
    }
   ],
   "source": [
    "sorted(G1.nodes()) == list(range(34))"
   ]
  },
  {
   "cell_type": "markdown",
   "metadata": {},
   "source": [
    "### 20.3\n",
    "Similarly, load the following five different graphs and store them as separate graphs; `G3`, `G_AB`, `G_D1`, `G_D2` and `G_ER`.\n",
    "\n",
    "``` [\"graph3.txt\", \"graphAB.txt\", \"graphDense1.txt\", \"graphDense2.txt\", \"graphER.txt\"]```\n",
    "\n",
    "(You may use a one-line list comprehension for this, if you like)"
   ]
  },
  {
   "cell_type": "code",
   "execution_count": 202,
   "metadata": {},
   "outputs": [
    {
     "data": {
      "text/plain": [
       "EdgeView([(0, 1), (0, 2), (0, 3), (0, 4), (0, 5), (0, 6), (0, 7), (0, 8), (0, 9), (0, 10), (0, 11), (0, 12), (0, 13), (0, 14), (0, 15), (0, 16), (0, 17), (0, 18), (0, 19), (0, 20), (0, 21), (0, 22), (0, 23), (0, 24), (0, 25), (0, 26), (0, 27), (0, 28), (0, 29), (0, 30), (0, 31), (0, 32), (0, 33), (1, 2), (1, 3), (1, 4), (1, 5), (1, 6), (1, 7), (1, 8), (1, 9), (1, 10), (1, 11), (1, 12), (1, 13), (1, 14), (1, 15), (1, 16), (1, 17), (1, 18), (1, 19), (1, 20), (1, 21), (1, 22), (1, 23), (1, 24), (1, 25), (1, 26), (1, 27), (1, 28), (1, 29), (1, 30), (1, 31), (1, 32), (1, 33), (2, 3), (2, 4), (2, 5), (2, 6), (2, 7), (2, 8), (2, 9), (2, 10), (2, 11), (2, 12), (2, 13), (2, 14), (2, 15), (2, 16), (2, 17), (2, 18), (2, 19), (2, 20), (2, 21), (2, 22), (2, 23), (2, 24), (2, 25), (2, 26), (2, 27), (2, 28), (2, 29), (2, 30), (2, 31), (2, 32), (2, 33), (3, 4), (3, 5), (3, 6), (3, 7), (3, 8), (3, 9), (3, 10), (3, 11), (3, 12), (3, 13), (3, 14), (3, 15), (3, 16), (3, 17), (3, 18), (3, 19), (3, 20), (3, 21), (3, 22), (3, 23), (3, 24), (3, 25), (3, 26), (3, 27), (3, 28), (3, 29), (3, 30), (3, 31), (3, 32), (3, 33), (4, 5), (4, 6), (4, 7), (4, 8), (4, 9), (4, 10), (4, 11), (4, 12), (4, 13), (4, 14), (4, 15), (4, 16), (4, 17), (4, 18), (4, 19), (4, 20), (4, 21), (4, 22), (4, 23), (4, 24), (4, 25), (4, 26), (4, 27), (4, 28), (4, 29), (4, 30), (4, 31), (4, 32), (4, 33), (5, 6), (5, 7), (5, 8), (5, 9), (5, 10), (5, 11), (5, 12), (5, 13), (5, 14), (5, 15), (5, 16), (5, 17), (5, 18), (5, 19), (5, 20), (5, 21), (5, 22), (5, 23), (5, 24), (5, 25), (5, 26), (5, 27), (5, 28), (5, 29), (5, 30), (5, 31), (5, 32), (5, 33), (6, 7), (6, 8), (6, 9), (6, 10), (6, 11), (6, 12), (6, 13), (6, 14), (6, 15), (6, 16), (6, 17), (6, 18), (6, 19), (6, 20), (6, 21), (6, 22), (6, 23), (6, 24), (6, 25), (6, 26), (6, 27), (6, 28), (6, 29), (6, 30), (6, 31), (6, 32), (6, 33), (7, 8), (7, 9), (7, 10), (7, 11), (7, 12), (7, 13), (7, 14), (7, 15), (7, 16), (7, 17), (7, 18), (7, 19), (7, 20), (7, 21), (7, 22), (7, 23), (7, 24), (7, 25), (7, 26), (7, 27), (7, 28), (7, 29), (7, 30), (7, 31), (7, 32), (7, 33), (8, 9), (8, 10), (8, 11), (8, 12), (8, 13), (8, 14), (8, 15), (8, 16), (8, 17), (8, 18), (8, 19), (8, 20), (8, 21), (8, 22), (8, 23), (8, 24), (8, 25), (8, 26), (8, 27), (8, 28), (8, 29), (8, 30), (8, 31), (8, 32), (8, 33), (9, 10), (9, 11), (9, 12), (9, 13), (9, 14), (9, 15), (9, 16), (9, 17), (9, 18), (9, 19), (9, 20), (9, 21), (9, 22), (9, 23), (9, 24), (9, 25), (9, 26), (9, 27), (9, 28), (9, 29), (9, 30), (9, 31), (9, 32), (9, 33), (10, 11), (10, 12), (10, 13), (10, 14), (10, 15), (10, 16), (10, 17), (10, 18), (10, 19), (10, 20), (10, 21), (10, 22), (10, 23), (10, 24), (10, 25), (10, 26), (10, 27), (10, 28), (10, 29), (10, 30), (10, 31), (10, 32), (10, 33), (11, 12), (11, 13), (11, 14), (11, 15), (11, 16), (11, 17), (11, 18), (11, 19), (11, 20), (11, 21), (11, 22), (11, 23), (11, 24), (11, 25), (11, 26), (11, 27), (11, 28), (11, 29), (11, 30), (11, 31), (11, 32), (11, 33), (12, 13), (12, 14), (12, 15), (12, 16), (12, 17), (12, 18), (12, 19), (12, 20), (12, 21), (12, 22), (12, 23), (12, 24), (12, 25), (12, 26), (12, 27), (12, 28), (12, 29), (12, 30), (12, 31), (12, 32), (12, 33), (13, 14), (13, 15), (13, 16), (13, 17), (13, 18), (13, 19), (13, 20), (13, 21), (13, 22), (13, 23), (13, 24), (13, 25), (13, 26), (13, 27), (13, 28), (13, 29), (13, 30), (13, 31), (13, 32), (13, 33), (14, 15), (14, 16), (14, 17), (14, 18), (14, 19), (14, 20), (14, 21), (14, 22), (14, 23), (14, 24), (14, 25), (14, 26), (14, 27), (14, 28), (14, 29), (14, 30), (14, 31), (14, 32), (14, 33), (15, 16), (15, 17), (15, 18), (15, 19), (15, 20), (15, 21), (15, 22), (15, 23), (15, 24), (15, 25), (15, 26), (15, 27), (15, 28), (15, 29), (15, 30), (15, 31), (15, 32), (15, 33), (16, 17), (16, 18), (16, 19), (16, 20), (16, 21), (16, 22), (16, 23), (16, 24), (16, 25), (16, 26), (16, 27), (16, 28), (16, 29), (16, 30), (16, 31), (16, 32), (16, 33), (17, 18), (17, 19), (17, 20), (17, 21), (17, 22), (17, 23), (17, 24), (17, 25), (17, 26), (17, 27), (17, 28), (17, 29), (17, 30), (17, 31), (17, 32), (17, 33), (18, 19), (18, 20), (18, 21), (18, 22), (18, 23), (18, 24), (18, 25), (18, 26), (18, 27), (18, 28), (18, 29), (18, 30), (18, 31), (18, 32), (18, 33), (19, 20), (19, 21), (19, 22), (19, 23), (19, 24), (19, 25), (19, 26), (19, 27), (19, 28), (19, 29), (19, 30), (19, 31), (19, 32), (19, 33), (20, 21), (20, 22), (20, 23), (20, 24), (20, 25), (20, 26), (20, 27), (20, 28), (20, 29), (20, 30), (20, 31), (20, 32), (20, 33), (21, 22), (21, 23), (21, 24), (21, 25), (21, 26), (21, 27), (21, 28), (21, 29), (21, 30), (21, 31), (21, 32), (21, 33), (22, 23), (22, 24), (22, 25), (22, 26), (22, 27), (22, 28), (22, 29), (22, 30), (22, 31), (22, 32), (22, 33), (23, 24), (23, 25), (23, 26), (23, 27), (23, 28), (23, 29), (23, 30), (23, 31), (23, 32), (23, 33), (24, 25), (24, 26), (24, 27), (24, 28), (24, 29), (24, 30), (24, 31), (24, 32), (24, 33), (25, 26), (25, 27), (25, 28), (25, 29), (25, 30), (25, 31), (25, 32), (25, 33), (26, 27), (26, 28), (26, 29), (26, 30), (26, 31), (26, 32), (26, 33), (27, 28), (27, 29), (27, 30), (27, 31), (27, 32), (27, 33), (28, 29), (28, 30), (28, 31), (28, 32), (28, 33), (29, 30), (29, 31), (29, 32), (29, 33), (30, 31), (30, 32), (30, 33), (31, 32), (31, 33), (32, 33)])"
      ]
     },
     "execution_count": 202,
     "metadata": {},
     "output_type": "execute_result"
    }
   ],
   "source": [
    "#Your code here\n",
    "G3 = from_edgelist('material/graph3.txt')\n",
    "G_AB = from_edgelist('material/graphAB.txt')\n",
    "G_D1 = from_edgelist('material/graphDense1.txt')\n",
    "G_D2 = from_edgelist('material/graphDense2.txt')\n",
    "G_ER = from_edgelist(\"material/graphER.txt\")\n",
    "\n",
    "G_ER.edges()"
   ]
  },
  {
   "cell_type": "markdown",
   "metadata": {},
   "source": [
    "### 20.4\n",
    "Calculate the following for each of the 5 graphs :\n",
    "- Number of nodes \n",
    "- Number of edges\n",
    "- Average degree (rounded to 2 decimals)\n",
    "- Diameter (longest shortest path)\n",
    "\n",
    "Then plot the following for each of the 5 graphs:\n",
    "- Degree distribution\n",
    "- Shortest path distribution\n",
    "\n",
    "Note: To ease your workload, make it into a function, as you will use it ahain in **20.5**.\n",
    "\n",
    "*Hints: `nx.diameter`, `nx.shortest_path`, `nx.has_path`*"
   ]
  },
  {
   "cell_type": "code",
   "execution_count": 283,
   "metadata": {},
   "outputs": [
    {
     "name": "stdout",
     "output_type": "stream",
     "text": [
      "0  nodes 34\n",
      "0  edges 29\n",
      "1  nodes 34\n",
      "1  edges 88\n",
      "2  nodes 33\n",
      "2  edges 73\n",
      "3  nodes 33\n",
      "3  edges 73\n",
      "4  nodes 34\n",
      "4  edges 556\n",
      "[1.71, 5.18, 4.42, 4.42, 32.71]\n",
      "[]\n"
     ]
    },
    {
     "data": {
      "image/png": "[encoded data removed]",
      "text/plain": [
       "<Figure size 1440x504 with 10 Axes>"
      ]
     },
     "metadata": {
      "needs_background": "light"
     },
     "output_type": "display_data"
    }
   ],
   "source": [
    "#Your code here\n",
    "\n",
    "def calc():\n",
    "\n",
    "    lst = [G3,G_AB,G_D1,G_D2,G_ER]\n",
    "\n",
    "    averageDegrees = []\n",
    "    diameters = []\n",
    "\n",
    "    fig, axs = plt.subplots(2,5, figsize=(20,7))\n",
    "\n",
    "    for graph in lst:\n",
    "        print(lst.index(graph),' nodes', len(graph.nodes()))\n",
    "        print(lst.index(graph),' edges', len(graph.edges()))\n",
    "\n",
    "        #average degree\n",
    "        sume = 0\n",
    "        degrees = []\n",
    "        for _,value in graph.degree():\n",
    "            sume = sume+value\n",
    "        averageDegrees.append(round(sume/len(graph.nodes()),2))\n",
    "\n",
    "        #diameter\n",
    "        #diameters.append(nx.diameter(graph))\n",
    "\n",
    "        degrees = [val for (node, val) in graph.degree()]\n",
    "        #print(degrees)\n",
    "        axs[0,lst.index(graph)].hist(degrees)\n",
    "        \n",
    "        shortestPaths = []\n",
    "        for i in nx.shortest_path(graph).keys():\n",
    "            for x in nx.shortest_path(graph)[i].values():\n",
    "                shortestPaths.append(len(x))\n",
    "        axs[1,lst.index(graph)].hist(shortestPaths,density = True)\n",
    "    print(averageDegrees)\n",
    "    print(diameters)\n",
    "\n",
    "calc()"
   ]
  },
  {
   "cell_type": "markdown",
   "metadata": {},
   "source": [
    "### 20.5\n",
    "- Delete 5 edges randomly, from each of the 5 above graphs and recalculate the metrics from **20.4**.\n",
    "- Do you see any major changes in any of the plots?\n",
    "- What changes do you imagine are made when removing edges in a graph? What are the consequences of this?\n",
    "\n",
    "Note that deleting edges might make your Graph disconnected (in which case a path will not exist between all pairs of nodes and thus it will not have a diameter. As a bonus exercise, you may see if you can fix this. You may use try-except statements in this part.)"
   ]
  },
  {
   "cell_type": "code",
   "execution_count": 286,
   "metadata": {},
   "outputs": [
    {
     "name": "stdout",
     "output_type": "stream",
     "text": [
      "0  nodes 34\n",
      "0  edges 29\n",
      "1  nodes 34\n",
      "1  edges 88\n",
      "2  nodes 33\n",
      "2  edges 73\n",
      "3  nodes 33\n",
      "3  edges 73\n",
      "4  nodes 34\n",
      "4  edges 556\n",
      "[1.71, 5.18, 4.42, 4.42, 32.71]\n",
      "[]\n"
     ]
    },
    {
     "data": {
      "image/png": "[encoded data removed]",
      "text/plain": [
       "<Figure size 1440x504 with 10 Axes>"
      ]
     },
     "metadata": {
      "needs_background": "light"
     },
     "output_type": "display_data"
    }
   ],
   "source": [
    "G3 = from_edgelist('material/graph3.txt')\n",
    "G_AB = from_edgelist('material/graphAB.txt')\n",
    "G_D1 = from_edgelist('material/graphDense1.txt')\n",
    "G_D2 = from_edgelist('material/graphDense2.txt')\n",
    "G_ER = from_edgelist(\"material/graphER.txt\")\n",
    "\n",
    "random.seed(42)\n",
    "graphs = [G3, G_AB, G_D1, G_D2, G_ER]\n",
    "for i in range(5):\n",
    "    for graph in graphs:\n",
    "        x = random.choice(list(graph.edges()))\n",
    "        graph.remove_edge(x[0],x[1])\n",
    "\n",
    "calc()"
   ]
  },
  {
   "cell_type": "markdown",
   "metadata": {},
   "source": [
    "### 20.6a\n",
    "- Create a function that, given a graph, returns the number of \"triangles\" (cliques of size 3) in the graph. **Do not use the triangles method from networkx**.\n",
    "- For each of the 5 original graphs (before deletion of edges), identify the number of triangles from the Graphs."
   ]
  },
  {
   "cell_type": "code",
   "execution_count": null,
   "metadata": {},
   "outputs": [],
   "source": [
    "#Your code here\n",
    "def triangles(graph):\n",
    "    triangles = 0\n",
    "    visited = []\n",
    "    #triangles2 = 0\n",
    "    for node in graph.nodes():\n",
    "        neighbors = list(graph.neighbors(node))\n",
    "        print({node: list(graph.neighbors(node))})\n",
    "        \n",
    "        for i in range(len(neighbors)):\n",
    "            for j in range(len(neighbors)):\n",
    "                if i != j:\n",
    "                    if graph.has_edge(neighbors[i], neighbors[j]):\n",
    "                        triangles = triangles + 1\n",
    "                        \n",
    "#         for i in neighbors:\n",
    "#             for j in neighbors:\n",
    "#                 if j in list(graph.neighbors(i)):\n",
    "#                     triangles2 = triangles2 + 1\n",
    "            \n",
    "    return triangles/3/2\n",
    "\n",
    "triangles(G_AB)\n",
    "\n"
   ]
  },
  {
   "cell_type": "markdown",
   "metadata": {},
   "source": [
    "### 20.6b\n",
    "For testing, compare your output with that of the `nx.triangles` method.\n",
    "- Note: Divide the output by 3 because each triangle is counted thrice - once for each node in it.\n",
    "\n",
    "An example code and output is given for your convenience. Feel free to use it (or write your own using `nx.triangles`):\n",
    "```graphs = [G3, G_AB, G_D1, G_D2, G_ER]\n",
    "[sum(nx.triangles(graph).values())//3 for graph in graphs]```\n",
    "\n",
    "Output: `[0, 88, 19, 13, 5984]`"
   ]
  },
  {
   "cell_type": "code",
   "execution_count": null,
   "metadata": {},
   "outputs": [],
   "source": [
    "graphs = [G3, G_AB, G_D1, G_D2, G_ER]\n",
    "[sum(nx.triangles(graph).values())//3 for graph in graphs]"
   ]
  },
  {
   "cell_type": "markdown",
   "metadata": {},
   "source": [
    "# Bonus Questions"
   ]
  },
  {
   "cell_type": "markdown",
   "metadata": {},
   "source": [
    "### 20.B1 (Advanced)\n",
    "Create a function to calculate the diameter of a graph.\n",
    "- The function should return -1 if the graph is disconnected.\n",
    "- Do not use the `nx.diameter`.\n",
    "- For an extra challenge, use as few of the following as possible:\n",
    " - `nx.shortest_path` (or `nx.shortest_path_length` etc.)\n",
    " - `nx.connected_components` (or variants hereof)\n",
    " - other methods that might make this seem too easy *(can you do it with just the basic Graph object and iteration/recursion?)*"
   ]
  },
  {
   "cell_type": "code",
   "execution_count": null,
   "metadata": {},
   "outputs": [],
   "source": [
    "#Your code here"
   ]
  }
 ],
 "metadata": {
  "kernelspec": {
   "display_name": "Python 3",
   "language": "python",
   "name": "python3"
  },
  "language_info": {
   "codemirror_mode": {
    "name": "ipython",
    "version": 3
   },
   "file_extension": ".py",
   "mimetype": "text/x-python",
   "name": "python",
   "nbconvert_exporter": "python",
   "pygments_lexer": "ipython3",
   "version": "3.8.5"
  }
 },
 "nbformat": 4,
 "nbformat_minor": 2
}
