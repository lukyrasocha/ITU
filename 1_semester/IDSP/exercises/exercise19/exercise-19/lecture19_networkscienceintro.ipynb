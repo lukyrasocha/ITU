{
 "cells": [
  {
   "cell_type": "markdown",
   "metadata": {
    "slideshow": {
     "slide_type": "slide"
    }
   },
   "source": [
    "<div class=\"frontmatter text-center\">\n",
    "<h1> Introduction to Data Science and Programming</h1>\n",
    "<h2>Lecture 19: Introduction to network science</h2>\n",
    "<h3>IT University of Copenhagen, Fall 2020</h3>\n",
    "    <h3>Instructor: Michael Szell</h3>\n",
    "</div>"
   ]
  },
  {
   "cell_type": "markdown",
   "metadata": {},
   "source": [
    "# Source\n",
    "This notebook was adapted from:\n",
    "* Bruno Gonçalves / Data4Sci: https://github.com/DataForScience/Networks"
   ]
  },
  {
   "cell_type": "code",
   "execution_count": 1,
   "metadata": {},
   "outputs": [],
   "source": [
    "from collections import Counter\n",
    "from pprint import pprint\n",
    "\n",
    "import numpy as np\n",
    "import matplotlib.pyplot as plt "
   ]
  },
  {
   "cell_type": "markdown",
   "metadata": {
    "slideshow": {
     "slide_type": "slide"
    }
   },
   "source": [
    "# Edge List"
   ]
  },
  {
   "cell_type": "markdown",
   "metadata": {},
   "source": [
    "Let us start by defining a list of edges. This will give us our first \"dataset\" to work with"
   ]
  },
  {
   "cell_type": "code",
   "execution_count": 2,
   "metadata": {},
   "outputs": [],
   "source": [
    "edge_list = [\n",
    "    ('A', 'B'),\n",
    "    ('A', 'C'),\n",
    "    ('A', 'E'),\n",
    "    ('B', 'C'),\n",
    "    ('C', 'D'),\n",
    "    ('C', 'E'),\n",
    "    ('D', 'E')]"
   ]
  },
  {
   "cell_type": "markdown",
   "metadata": {
    "slideshow": {
     "slide_type": "slide"
    }
   },
   "source": [
    "This is a particularly useful representation as many datasets are distributed in this (or a closely related) format. From this list, we can easily measure the number of edges that constitute our network. It's main limitations are that it has no way to explictly take into account disconnected nodes (it only accounts for nodes that are part of edges) and no indication on whether it is directed or not."
   ]
  },
  {
   "cell_type": "code",
   "execution_count": 3,
   "metadata": {},
   "outputs": [
    {
     "name": "stdout",
     "output_type": "stream",
     "text": [
      "7\n"
     ]
    }
   ],
   "source": [
    "number_edges = len(edge_list)\n",
    "print(number_edges)"
   ]
  },
  {
   "cell_type": "markdown",
   "metadata": {
    "slideshow": {
     "slide_type": "slide"
    }
   },
   "source": [
    "To get the number of node is a bit trickier. We must go edge by edge and keep track of all new nodes. For efficiency, we use a set to automatically remove duplicates"
   ]
  },
  {
   "cell_type": "code",
   "execution_count": 9,
   "metadata": {},
   "outputs": [
    {
     "name": "stdout",
     "output_type": "stream",
     "text": [
      "('A', 'B')\n",
      "('A', 'C')\n",
      "('A', 'E')\n",
      "('B', 'C')\n",
      "('C', 'D')\n",
      "('C', 'E')\n",
      "('D', 'E')\n",
      "5\n"
     ]
    }
   ],
   "source": [
    "nodes = set()\n",
    "\n",
    "for edge in edge_list:\n",
    "    nodes.update(edge)\n",
    "    \n",
    "\n",
    "number_nodes = len(nodes)\n",
    "print(number_nodes)"
   ]
  },
  {
   "cell_type": "markdown",
   "metadata": {
    "slideshow": {
     "slide_type": "slide"
    }
   },
   "source": [
    "Now we know that we have 5 nodes and 7 edges in our network. The node ids are:"
   ]
  },
  {
   "cell_type": "code",
   "execution_count": 5,
   "metadata": {},
   "outputs": [
    {
     "data": {
      "text/plain": [
       "{'A', 'B', 'C', 'D', 'E'}"
      ]
     },
     "execution_count": 5,
     "metadata": {},
     "output_type": "execute_result"
    }
   ],
   "source": [
    "nodes"
   ]
  },
  {
   "cell_type": "markdown",
   "metadata": {
    "slideshow": {
     "slide_type": "slide"
    }
   },
   "source": [
    "# Adjacency List"
   ]
  },
  {
   "cell_type": "markdown",
   "metadata": {},
   "source": [
    "A closely related data structure to the edge list is the adjacency list. In this formulation, we use a dictionary to map each node to its set of neighbors"
   ]
  },
  {
   "cell_type": "code",
   "execution_count": 7,
   "metadata": {},
   "outputs": [],
   "source": [
    "adj_list = {}\n",
    "\n",
    "for node_i, node_j in edge_list:\n",
    "    if node_i not in adj_list:\n",
    "        adj_list[node_i] = set()\n",
    "    \n",
    "    adj_list[node_i].add(node_j)"
   ]
  },
  {
   "cell_type": "markdown",
   "metadata": {},
   "source": [
    "Our adjaceny list is then:"
   ]
  },
  {
   "cell_type": "code",
   "execution_count": 10,
   "metadata": {},
   "outputs": [
    {
     "name": "stdout",
     "output_type": "stream",
     "text": [
      "{'A': {'E', 'C', 'B'}, 'B': {'C'}, 'C': {'E', 'D'}, 'D': {'E'}}\n"
     ]
    }
   ],
   "source": [
    "pprint(adj_list)"
   ]
  },
  {
   "cell_type": "markdown",
   "metadata": {
    "slideshow": {
     "slide_type": "slide"
    }
   },
   "source": [
    "In this approach we inherently assumed that our network is directed (or, equivalently, that both edge directions are present in the data). To generate an undirected version we must make a simple modification to our code to manually add the opposite direction edge"
   ]
  },
  {
   "cell_type": "code",
   "execution_count": 11,
   "metadata": {},
   "outputs": [],
   "source": [
    "adj_list = {}\n",
    "\n",
    "for node_i, node_j in edge_list:\n",
    "    if node_i not in adj_list:\n",
    "        adj_list[node_i] = set() # 'set' is used to prevent accidental multiple edges\n",
    "    \n",
    "    adj_list[node_i].add(node_j)\n",
    "    \n",
    "    # Manually add the opposite direction edge\n",
    "    if node_j not in adj_list:\n",
    "        adj_list[node_j] = set()\n",
    "    \n",
    "    adj_list[node_j].add(node_i)"
   ]
  },
  {
   "cell_type": "markdown",
   "metadata": {},
   "source": [
    "The undirected adjacency list represenation is then:"
   ]
  },
  {
   "cell_type": "code",
   "execution_count": 12,
   "metadata": {},
   "outputs": [
    {
     "name": "stdout",
     "output_type": "stream",
     "text": [
      "{'A': {'E', 'C', 'B'},\n",
      " 'B': {'A', 'C'},\n",
      " 'C': {'A', 'E', 'B', 'D'},\n",
      " 'D': {'E', 'C'},\n",
      " 'E': {'A', 'C', 'D'}}\n"
     ]
    }
   ],
   "source": [
    "pprint(adj_list)"
   ]
  },
  {
   "cell_type": "markdown",
   "metadata": {
    "slideshow": {
     "slide_type": "slide"
    }
   },
   "source": [
    "# Adjacency Matrix"
   ]
  },
  {
   "cell_type": "markdown",
   "metadata": {},
   "source": [
    "We now move on to generating an Adjacency Matrix view of the network. For this we must have two things: \n",
    "\n",
    "- the number of nodes in the network\n",
    "- A mapping between the original node ids and a sequential numerical ID\n",
    "\n",
    "We start by building out the numerical ID mapping. As we do, we get the number of nodes for free"
   ]
  },
  {
   "cell_type": "code",
   "execution_count": 14,
   "metadata": {},
   "outputs": [],
   "source": [
    "node_id = {}\n",
    "node_count = 0\n",
    "\n",
    "for node_i, node_j in edge_list:\n",
    "    if node_i not in node_id:\n",
    "        node_id[node_i] = node_count\n",
    "        node_count += 1\n",
    "    \n",
    "    # Make sure we have an id for both nodes\n",
    "    # This is necessary, irregardless of whether the network is directed or undirected\n",
    "    if node_j not in node_id:\n",
    "        node_id[node_j] = node_count\n",
    "        node_count += 1"
   ]
  },
  {
   "cell_type": "markdown",
   "metadata": {},
   "source": [
    "We can check that each of the original node ids is correctly mapped to a sequential number"
   ]
  },
  {
   "cell_type": "code",
   "execution_count": 15,
   "metadata": {},
   "outputs": [
    {
     "data": {
      "text/plain": [
       "{'A': 0, 'B': 1, 'C': 2, 'E': 3, 'D': 4}"
      ]
     },
     "execution_count": 15,
     "metadata": {},
     "output_type": "execute_result"
    }
   ],
   "source": [
    "node_id"
   ]
  },
  {
   "cell_type": "markdown",
   "metadata": {},
   "source": [
    "Finally, we are ready to build our adjacency matrix. We start by declaring the data structurewe will use"
   ]
  },
  {
   "cell_type": "code",
   "execution_count": 16,
   "metadata": {},
   "outputs": [],
   "source": [
    "adj_matrix = np.zeros((node_count, node_count), dtype='int')"
   ]
  },
  {
   "cell_type": "markdown",
   "metadata": {},
   "source": [
    "And we can now populate the matrix entries. For generality, we'll include a flag to control wether or not the graph is directed. As we don't have any weights associated with our edges, we assign to each of them a value of 1."
   ]
  },
  {
   "cell_type": "code",
   "execution_count": 18,
   "metadata": {},
   "outputs": [],
   "source": [
    "is_directed = False\n",
    "\n",
    "for node_i, node_j in edge_list:    \n",
    "    # Get the correct node ids\n",
    "    node_i = node_id[node_i]\n",
    "    node_j = node_id[node_j]\n",
    "    \n",
    "    adj_matrix[node_i, node_j] = 1 # Unweighted network\n",
    "\n",
    "    if not is_directed:\n",
    "        adj_matrix[node_j, node_i] = 1 # Undirected networks"
   ]
  },
  {
   "cell_type": "markdown",
   "metadata": {},
   "source": [
    "Our Adjacency Matrix is then:"
   ]
  },
  {
   "cell_type": "code",
   "execution_count": 19,
   "metadata": {},
   "outputs": [
    {
     "data": {
      "text/plain": [
       "array([[0, 1, 1, 1, 0],\n",
       "       [1, 0, 1, 0, 0],\n",
       "       [1, 1, 0, 1, 1],\n",
       "       [1, 0, 1, 0, 1],\n",
       "       [0, 0, 1, 1, 0]])"
      ]
     },
     "execution_count": 19,
     "metadata": {},
     "output_type": "execute_result"
    }
   ],
   "source": [
    "adj_matrix"
   ]
  },
  {
   "cell_type": "markdown",
   "metadata": {},
   "source": [
    "As we can see, the Adjacency matrix representation is very wasteful, using 25 values to store a 7 (14) edge network plus 5 dictionary entries for the id mappings."
   ]
  },
  {
   "cell_type": "markdown",
   "metadata": {
    "slideshow": {
     "slide_type": "slide"
    }
   },
   "source": [
    "# Adjacency Dict"
   ]
  },
  {
   "cell_type": "markdown",
   "metadata": {},
   "source": [
    "The final graph representation we will explore is the Adjacency Dict. This is a generalization of the Adjacency List covered above that is a bit more flexible and is able to accuratly account for diconnected nodes, weights, etc. For this we will need two datastructures, one to store node information and one for edges. For the sake of flexbility, we will use dicts for both."
   ]
  },
  {
   "cell_type": "code",
   "execution_count": 20,
   "metadata": {},
   "outputs": [],
   "source": [
    "nodes = {}\n",
    "edges = {}\n",
    "is_directed = False"
   ]
  },
  {
   "cell_type": "markdown",
   "metadata": {
    "slideshow": {
     "slide_type": "slide"
    }
   },
   "source": [
    "And we can now populate them from our original edge_list"
   ]
  },
  {
   "cell_type": "code",
   "execution_count": 22,
   "metadata": {},
   "outputs": [],
   "source": [
    "for node_i, node_j in edge_list:\n",
    "    if node_i not in nodes:\n",
    "        nodes[node_i] = {}\n",
    "        edges[node_i] = {}\n",
    "        \n",
    "    if node_j not in nodes:\n",
    "        nodes[node_j] = {}\n",
    "        \n",
    "        if not is_directed:\n",
    "            edges[node_j] = {}\n",
    "    \n",
    "    edges[node_i][node_j] = {}\n",
    "    \n",
    "    if not is_directed:\n",
    "        edges[node_j][node_i] = {}"
   ]
  },
  {
   "cell_type": "markdown",
   "metadata": {},
   "source": [
    "Our set of nodes is:"
   ]
  },
  {
   "cell_type": "code",
   "execution_count": 23,
   "metadata": {},
   "outputs": [
    {
     "data": {
      "text/plain": [
       "{'A': {}, 'B': {}, 'C': {}, 'E': {}, 'D': {}}"
      ]
     },
     "execution_count": 23,
     "metadata": {},
     "output_type": "execute_result"
    }
   ],
   "source": [
    "nodes"
   ]
  },
  {
   "cell_type": "markdown",
   "metadata": {},
   "source": [
    "Where we chose to use dictinaries to allow for the storage of node attributes. Further, our edges are now:"
   ]
  },
  {
   "cell_type": "code",
   "execution_count": 24,
   "metadata": {},
   "outputs": [
    {
     "data": {
      "text/plain": [
       "{'A': {'B': {}, 'C': {}, 'E': {}},\n",
       " 'B': {'A': {}, 'C': {}},\n",
       " 'C': {'A': {}, 'B': {}, 'D': {}, 'E': {}},\n",
       " 'E': {'A': {}, 'C': {}, 'D': {}},\n",
       " 'D': {'C': {}, 'E': {}}}"
      ]
     },
     "execution_count": 24,
     "metadata": {},
     "output_type": "execute_result"
    }
   ],
   "source": [
    "edges"
   ]
  },
  {
   "cell_type": "markdown",
   "metadata": {},
   "source": [
    "Where we once again opted to associate a dictionary to each edge. This gives us the ability to associate edge information (such as weights, etc) to each node."
   ]
  },
  {
   "cell_type": "markdown",
   "metadata": {},
   "source": [
    "As we can see, this is the most flexible representation and can be easily converted to one of the other representations if necessary so we will use this approach for the rest of the lecture."
   ]
  },
  {
   "cell_type": "markdown",
   "metadata": {},
   "source": [
    "# Creating the Graph.py library"
   ]
  },
  {
   "cell_type": "markdown",
   "metadata": {},
   "source": [
    "We now integrate our prefered graph representation (adjacency dict) into an object-oriented Graph class that we can build on later, starting like this:"
   ]
  },
  {
   "cell_type": "code",
   "execution_count": null,
   "metadata": {},
   "outputs": [],
   "source": [
    "class Graph:\n",
    "    def __init__(self, directed=False):\n",
    "        self._nodes = {}\n",
    "        self._edges = {}\n",
    "        self._directed = directed"
   ]
  },
  {
   "cell_type": "markdown",
   "metadata": {},
   "source": [
    "The class and its methods are stored in Graph.py. It is not important to understand all its details, but I encourage you to explore it and try to understand as much as you can. You can find more information on [Decorators](https://www.python.org/dev/peps/pep-0318/) and [setattr](https://docs.python.org/3/library/functions.html#setattr) in the offical Python documentation."
   ]
  }
 ],
 "metadata": {
  "celltoolbar": "Slideshow",
  "kernelspec": {
   "display_name": "Python 3",
   "language": "python",
   "name": "python3"
  },
  "language_info": {
   "codemirror_mode": {
    "name": "ipython",
    "version": 3
   },
   "file_extension": ".py",
   "mimetype": "text/x-python",
   "name": "python",
   "nbconvert_exporter": "python",
   "pygments_lexer": "ipython3",
   "version": "3.8.5"
  }
 },
 "nbformat": 4,
 "nbformat_minor": 1
}
