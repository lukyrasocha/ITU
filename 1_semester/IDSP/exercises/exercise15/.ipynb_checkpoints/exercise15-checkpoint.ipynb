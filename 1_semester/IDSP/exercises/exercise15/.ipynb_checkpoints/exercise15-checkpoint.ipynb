{
 "cells": [
  {
   "cell_type": "code",
   "execution_count": 3,
   "metadata": {},
   "outputs": [],
   "source": [
    "import random"
   ]
  },
  {
   "cell_type": "markdown",
   "metadata": {},
   "source": [
    "# Simulation and Design"
   ]
  },
  {
   "cell_type": "markdown",
   "metadata": {},
   "source": [
    "Statistical simulation is a numerical method for conducting experiments on a computer in order to solve mathematical problems in a data-driven manner. It can save huge amounts of time and provides very accurate answers to our questions.\n",
    "\n",
    "Each experiment is carried out in two steps:\n",
    "\n",
    "1. Drawing a random outcome.\n",
    "\n",
    "2. Application of an estimation function to the drawn data.\n",
    "\n",
    "Random draws are made by means of simulating random numbers, such as the numbers produced by a chosen random number generator."
   ]
  },
  {
   "cell_type": "markdown",
   "metadata": {},
   "source": [
    "### 15.1. Randomness"
   ]
  },
  {
   "cell_type": "markdown",
   "metadata": {},
   "source": [
    "`from random import random()`\n",
    "\n",
    "What expression is true about 66 % of the time?:\n",
    "\n",
    "1. `random()` &geq; 66\n",
    "2. `random()` < 66\n",
    "3. `random()` < 0.66\n",
    "4. `random()` > 0.66"
   ]
  },
  {
   "cell_type": "code",
   "execution_count": null,
   "metadata": {},
   "outputs": [],
   "source": []
  },
  {
   "cell_type": "markdown",
   "metadata": {},
   "source": [
    "### 15.2. Produce a random integer n, 0 &ge; n &ge; 10.\n",
    "Hint: use `random()` or `randrange()`\n",
    "\n",
    "`7`"
   ]
  },
  {
   "cell_type": "code",
   "execution_count": null,
   "metadata": {},
   "outputs": [],
   "source": []
  },
  {
   "cell_type": "markdown",
   "metadata": {},
   "source": [
    "### 15.3. Produce a random float x, -10 &ge; x &ge; 10.\n",
    "Hint: same as 15.2.\n",
    "\n",
    "`9.0`"
   ]
  },
  {
   "cell_type": "code",
   "execution_count": null,
   "metadata": {},
   "outputs": [],
   "source": []
  },
  {
   "cell_type": "markdown",
   "metadata": {},
   "source": [
    "### 15.4. Simulate the roll of a six-sided dice\n",
    "Hint: same as 15.2.\n",
    "\n",
    "`4`"
   ]
  },
  {
   "cell_type": "code",
   "execution_count": null,
   "metadata": {},
   "outputs": [],
   "source": []
  },
  {
   "cell_type": "markdown",
   "metadata": {},
   "source": [
    "### 15.5. Simulate the roll of two six sided dice\n",
    "Hint: same as 15.2.\n",
    "\n",
    "`[6, 2]`"
   ]
  },
  {
   "cell_type": "code",
   "execution_count": null,
   "metadata": {},
   "outputs": [],
   "source": []
  },
  {
   "cell_type": "markdown",
   "metadata": {},
   "source": [
    "### 15.6. Simulate the roll of five six-sided dice\n",
    "\n",
    "`[2,2,4,1,6]`"
   ]
  },
  {
   "cell_type": "code",
   "execution_count": null,
   "metadata": {},
   "outputs": [],
   "source": []
  },
  {
   "cell_type": "markdown",
   "metadata": {},
   "source": [
    "## The law of large numbers\n",
    "\n",
    "The law of large numbers has a very central role in probability and statistics. It states that if you repeat an experiment independently a large number of times and average the result, what you obtain should be close to the expected value.\n",
    "\n",
    "We will now test the law of large numbers by simulating the flip of a fair coin."
   ]
  },
  {
   "cell_type": "markdown",
   "metadata": {},
   "source": [
    "### 15.7. Write a function that simulates the flip of a coin\n",
    "\n",
    "The output should be either `H`, heads, or `T`, tails, and the coin should be fair (that means the probability of getting either H or T should be an even 50/50 split). "
   ]
  },
  {
   "cell_type": "code",
   "execution_count": null,
   "metadata": {},
   "outputs": [],
   "source": []
  },
  {
   "cell_type": "markdown",
   "metadata": {},
   "source": [
    "### 15.8. Perform a number of trials and calculate the percentage/probability of `H`\n",
    "\n",
    "Perform the following amount of trials and calculate the result for each amount:\n",
    "- $10$\n",
    "- $10^2$\n",
    "- $10^3$\n",
    "- $10^4$\n",
    "- $10^5$\n",
    "\n",
    "What can you say about the law of large numbers from this experiment? Also think about what it means for something to converge."
   ]
  },
  {
   "cell_type": "markdown",
   "metadata": {},
   "source": [
    "## Reproducable randomness"
   ]
  },
  {
   "cell_type": "markdown",
   "metadata": {},
   "source": [
    "Reproducibility is a major principle of the scientific method. This could cause some trouble for us when we introduce randomness in our programs. Luckily for us, the `random` library for python is not truly random, but a pseudorandom number generator. This means that we can control it to achieve reproducible results in our experiments and for testing/debugging purposes.\n",
    "\n",
    "A pseudorandom number generator's number sequence is completely determined by its seed: thus, if a pseudorandom number generator is reinitialized with the same seed, it will produce the same sequence of numbers. Random seeds are often generated from the state of the computer system (such as the time).\n",
    "\n",
    "In python we can specify the initial state using the `random.seed()` function. This function will set the state, and everything 'random' after this point from a known, deterministically constructed array."
   ]
  },
  {
   "cell_type": "markdown",
   "metadata": {},
   "source": [
    "### 15.9. Set the seed to an integer you like and print 10 random numbers using a for-loop\n",
    "\n",
    "Hint: https://www.w3schools.com/python/ref_random_seed.asp\n",
    "\n",
    "Use `random.random()`\n",
    "\n",
    "\n",
    "`0.641008269013732\n",
    "0.44279894096525196\n",
    "0.3104308982158879\n",
    "0.60354015914353\n",
    "...`"
   ]
  },
  {
   "cell_type": "code",
   "execution_count": null,
   "metadata": {},
   "outputs": [],
   "source": []
  },
  {
   "cell_type": "markdown",
   "metadata": {},
   "source": [
    "### 15.10. Set the same seed inside the for loop and print 10 random numbers\n",
    "\n",
    "Hint: https://www.w3schools.com/python/ref_random_seed.asp\n",
    "\n",
    "Use `random.random()`\n",
    "\n",
    "`0.641008269013732\n",
    "0.641008269013732\n",
    "0.641008269013732\n",
    "0.641008269013732\n",
    "...`"
   ]
  },
  {
   "cell_type": "code",
   "execution_count": null,
   "metadata": {},
   "outputs": [],
   "source": []
  },
  {
   "cell_type": "markdown",
   "metadata": {},
   "source": [
    "## Random walk"
   ]
  },
  {
   "cell_type": "markdown",
   "metadata": {},
   "source": [
    "A random walk is a particular kind of simulation that models the process by which randomly-moving objects wander away from where they started. This is done by simulating a sequence of discrete, fixed-length steps in random directions.\n",
    "\n",
    "Random walks may be 1-dimensional, 2-dimensional, or n-dimensional for any n."
   ]
  },
  {
   "cell_type": "markdown",
   "metadata": {},
   "source": [
    "### 15.11. Simulate a one-dimensional random walk\n",
    "Suppose you are standing on a very long straight sidewalk that extends both in front of and behind you. You can think of a one-dimensional random walk in terms of coin flipping. You flip a coin. If it comes up heads, you take a step forward; tails means to take a step backward. \n",
    "\n",
    "Suppose you take a random walk of 1000 steps. On average, how many steps away from the starting point will you end up (either direction counts)? Write a program to help you investigate this question. Run the 1000 step simulation 1000 times."
   ]
  },
  {
   "cell_type": "code",
   "execution_count": null,
   "metadata": {},
   "outputs": [],
   "source": []
  },
  {
   "cell_type": "markdown",
   "metadata": {},
   "source": [
    "### 15.12. Simulate a two-dimensional random walk\n",
    "\n",
    "Suppose you are doing a random walk around the blocks of a city like New York. At each \"step\" you choose to walk one block (at random) either forward, backward, left or right. You can also think of this as walking along the x and y axes in a coordinate system. \n",
    "\n",
    "In 1000 steps, how likely is it that you are more than 100 block-sides away from your starting point in taxicab geometry (https://bit.ly/2GXRQaR)? Write a program to help answer this question."
   ]
  },
  {
   "cell_type": "code",
   "execution_count": null,
   "metadata": {},
   "outputs": [],
   "source": []
  },
  {
   "cell_type": "markdown",
   "metadata": {},
   "source": [
    "### Bonus: The Monty Hall Problem"
   ]
  },
  {
   "cell_type": "markdown",
   "metadata": {},
   "source": [
    "The Monty Hall problem (https://youtu.be/4Lb-6rxZxx0) is a famous conundrum in probability which takes the form of a hypothetical game show. The contestant is presented with three doors; behind one is a car and behind each of the other two is a goat. The contestant picks a door and then the game show host opens a different door to reveal a goat. The host knows which door conceals the car. The contestant is then invited to switch to the other closed door or stick with their initial choice. Run a simulation and check if it is advisable to switch or stick, if given a choice."
   ]
  },
  {
   "cell_type": "markdown",
   "metadata": {},
   "source": [
    "*Hint: For each step in the simulation initiate a new random array of length three with two $0$ and one $1$. `random.choice()` could be a friend*"
   ]
  },
  {
   "cell_type": "markdown",
   "metadata": {},
   "source": [
    "*Hint 2:* `\"when switching we won {switch-win} out of total times, where as when not switching we only won {noswitch-win} times\".format()`"
   ]
  },
  {
   "cell_type": "code",
   "execution_count": null,
   "metadata": {},
   "outputs": [],
   "source": []
  },
  {
   "cell_type": "markdown",
   "metadata": {},
   "source": [
    "### Advanced Bonus: Volleyball simulation!"
   ]
  },
  {
   "cell_type": "markdown",
   "metadata": {},
   "source": [
    "Design and implement a simulation of the game of volleyball. Normal volleyball is played like racquetball in that a team can only score points\n",
    "\n",
    "when it is serving. Games are played to 15, but must be won by at least two points.\n",
    "Add any rules to the game that you feel is missing in order to successfully run the simulation. State your rules explicitly. Simulate n games and average the results. Does tweaking the rule change the distribution of wins? If not, what would?\n",
    "\n",
    "Try adding a ”talent quotient” to the mix using the random library. Discuss and define different possible definitions of this quotient. Does including this dimension yield significantly different simulation outputs?"
   ]
  },
  {
   "cell_type": "markdown",
   "metadata": {},
   "source": [
    "*Hint: Find inspiration in Michael's raquet ball script*"
   ]
  },
  {
   "cell_type": "code",
   "execution_count": null,
   "metadata": {},
   "outputs": [],
   "source": []
  }
 ],
 "metadata": {
  "kernelspec": {
   "display_name": "Python 3",
   "language": "python",
   "name": "python3"
  },
  "language_info": {
   "codemirror_mode": {
    "name": "ipython",
    "version": 3
   },
   "file_extension": ".py",
   "mimetype": "text/x-python",
   "name": "python",
   "nbconvert_exporter": "python",
   "pygments_lexer": "ipython3",
   "version": "3.8.2"
  }
 },
 "nbformat": 4,
 "nbformat_minor": 4
}
