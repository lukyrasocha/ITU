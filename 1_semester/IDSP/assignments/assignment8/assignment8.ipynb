{
 "cells": [
  {
   "cell_type": "markdown",
   "metadata": {},
   "source": [
    "# Assignment 8\n",
    "#### Due November 11, 2020, 23:59\n",
    "\n",
    "In this week’s assignment, we are going dive to dive back into graph theory and expand on the subject of network science.  \n",
    "Graphs are powerful constructs with even more powerful mathematical properties that we can take advantage of when we can formulate our problems as a graph. This time around, we are interested in one network property in particular: the **local clustering coefficient** of a node.\n",
    "\n",
    "## Submission\n",
    "Edit and turn in this jupyter notebook file containing your solutions to each task.  \n",
    "Implement your solution to each of the exercises in the code field below the exercise description.  \n",
    "\n",
    "The libraries you may need are already given, any extra imports are not allowed.\n",
    "\n",
    "___\n",
    "\n",
    "### Local clustering coefficient\n",
    "In this assignment, we want to calculate the local clustering coefficient of a node in an undirected graph. \n",
    "\n",
    "Recall that an undirected graph consists a set of nodes that are connected to some extent, where all the edges that connect the nodes are bidirectional. \n",
    "Imagine, for example, a graph where the nodes represent people at a party pre-corona and there is an edge between two people if they shook hands. This example graph is undirected because any person, A, can shake hands with another person, B, only if B also shakes hands with A. This means that if A is connected to B, then B is also per definition automatically connected to A.\n",
    "\n",
    "The intuition behind the **local clustering coefficient** metric is that it describes the connectivity of the neighborhood of a node. That is, the proportion of connections among its neighbours which are actually realised out of the number of all possible connections.\n",
    "\n",
    "Imagine a person, A, that has three friends: B, C, and D. These friends are person A’s neighborhood. They all have in common that they are friends with A. However, they might not be friends with each other. The local clustering coefficient expresses how many of A’s friends are in fact also friends with each other. \n",
    "\n",
    "Different scenarios for the local clustering coefficient of A:\n",
    "- $LCC_A = \\frac{0}{3}$ -- noone is friends in the neighbourhood: no nodes are connected\n",
    "- $LCC_A = \\frac{1}{3}$ -- only B and C are friends (or only C and D, or only D and B)\n",
    "- $LCC_A = \\frac{2}{3}$ -- we have two pairs of friends in the neighbourhood\n",
    "- $LCC_A = \\frac{3}{3}$ -- everybody is friends in the neighbourhood: all nodes are connected\n",
    "\n",
    "\n",
    "<img src=\"img/clustering_coeff.png\" align=\"center\">\n",
    "\n",
    "___\n",
    "\n",
    "## Assignment\n",
    "Your task in the following exercises is to compute the local clustering coefficient from various representations of the same undirected graph, `tiny`, consisting of 5 nodes and 7 edges.\n"
   ]
  },
  {
   "cell_type": "code",
   "execution_count": 2,
   "metadata": {},
   "outputs": [],
   "source": [
    "import numpy as np"
   ]
  },
  {
   "cell_type": "markdown",
   "metadata": {},
   "source": [
    "### Exercise 1\n",
    "As we know, one way of representing a graph is with an edge list. \n",
    "This representation can be found in the file `tiny_edgelist.txt`. The file contains one edge per line, shown as an edge pair of 2 integers separated by whitespace. Investigate the file to further by yourself to see the formatting of the edge pairs. \n",
    "\n",
    "Write a function called `coefficient_from_edgelist(edgefile, node_id)` that takes an edge list file formatted like so, and a node, and returns the local clustering coefficient for that node, rounded to 3 decimals.\n",
    "___\n",
    "`coefficient_from_edgelist(tiny_edgelist.txt, 2)`  \n",
    "\\>\\> `0.667`"
   ]
  },
  {
   "cell_type": "code",
   "execution_count": 127,
   "metadata": {},
   "outputs": [
    {
     "data": {
      "text/plain": [
       "0.667"
      ]
     },
     "execution_count": 127,
     "metadata": {},
     "output_type": "execute_result"
    }
   ],
   "source": [
    "# your solution to exercise 1 here\n",
    "def coefficient_from_edgelist(edgefile,node_id):\n",
    "    edgeList = np.loadtxt(edgefile,delimiter=' ')\n",
    "    nodes = set()\n",
    "    neighbours = {}\n",
    "    for i in edgeList: #get the nodes\n",
    "        for j in range(2):\n",
    "            nodes.add(i[j])\n",
    "\n",
    "    \n",
    "    for node in nodes: #create neighbours\n",
    "        neighbours[node] = set()\n",
    "        for i in edgeList:\n",
    "            if node == i[0]:\n",
    "                 neighbours[node].add(i[1])\n",
    "            elif node == i[1]:\n",
    "                neighbours[node].add(i[0])\n",
    "\n",
    "    id_neighbours = neighbours[node_id]\n",
    "    visitedEdges = []\n",
    "    edge = 0\n",
    "    for node in id_neighbours: #for each of the neighbours of our node_id, check if the neighbours are also neighbours of each other\n",
    "        for j in id_neighbours:\n",
    "            if node != j: #skip the node itself, so node doesn't consider itself as a neighbour, quite redundant because I didn't put a node as its neighbour in the neighbour dictionary anyways\n",
    "                for i in neighbours[node]:#check neighbourhood of all neighbours of node_id\n",
    "                    if i == j and (node,j) not in visitedEdges:\n",
    "                        edge += 1\n",
    "                        visitedEdges.append((node,j)) # to not add the same edge between two nodes twice\n",
    "                        visitedEdges.append((j,node))\n",
    "    \n",
    "    return round(edge / (len(id_neighbours)*(len(id_neighbours)-1)/2),3)\n",
    "            \n",
    "        \n",
    "coefficient_from_edgelist('tiny_edgelist.txt',2)"
   ]
  },
  {
   "cell_type": "markdown",
   "metadata": {},
   "source": [
    "## Exercise 2\n",
    "Another common way to represent a graph is with an adjacency matrix. \n",
    "This representation can be found in the file `tiny_adjmatrix.txt`. Investigate the file by yourself to see the formatting of the adjacency matrix. \n",
    "\n",
    "Write a function called `coefficient_from_adjmatrix(matrixfile, node_id)` that takes an adjacency matrix file formatted like so, and a node, and returns the local clustering coefficient for that node, rounded to 3 decimals.\n",
    "___\n",
    "`coefficient_from_adjmatrix(tiny_edgelist.txt, 0)`  \n",
    "\\>\\> `1.0`"
   ]
  },
  {
   "cell_type": "code",
   "execution_count": 129,
   "metadata": {},
   "outputs": [
    {
     "data": {
      "text/plain": [
       "1.0"
      ]
     },
     "execution_count": 129,
     "metadata": {},
     "output_type": "execute_result"
    }
   ],
   "source": [
    "# your solution to exercise 2 here\n",
    "def coefficient_from_adjmatrix(matrixList, node_id):\n",
    "    matrixList = np.loadtxt(matrixList,delimiter=' ') \n",
    "\n",
    "    id_neighbours = np.where(matrixList[node_id] == 1)\n",
    "    id_neighbours = id_neighbours[0] # neighbours of node_id\n",
    "    \n",
    "    edge = 0\n",
    "    visitedEdges = []\n",
    "    for neighbour in id_neighbours: #Checking whether neighbours of node_id are also neighbours of each other\n",
    "        for j in id_neighbours:\n",
    "            if neighbour != j and (neighbour,j) not in visitedEdges:\n",
    "                if matrixList[neighbour][j] == 1:\n",
    "                    edge += 1\n",
    "                    visitedEdges.append((neighbour,j)) #making sure that I don't add an edge between two nodes twice\n",
    "                    visitedEdges.append((j,neighbour))\n",
    "                    \n",
    "    return round(edge / (len(id_neighbours)*(len(id_neighbours)-1)/2),3)\n",
    "    \n",
    "coefficient_from_adjmatrix('tiny_adjmatrix.txt', 0)\n",
    "\n",
    "    \n",
    "    "
   ]
  },
  {
   "cell_type": "code",
   "execution_count": null,
   "metadata": {},
   "outputs": [],
   "source": []
  }
 ],
 "metadata": {
  "kernelspec": {
   "display_name": "Python 3",
   "language": "python",
   "name": "python3"
  },
  "language_info": {
   "codemirror_mode": {
    "name": "ipython",
    "version": 3
   },
   "file_extension": ".py",
   "mimetype": "text/x-python",
   "name": "python",
   "nbconvert_exporter": "python",
   "pygments_lexer": "ipython3",
   "version": "3.8.5"
  }
 },
 "nbformat": 4,
 "nbformat_minor": 4
}
