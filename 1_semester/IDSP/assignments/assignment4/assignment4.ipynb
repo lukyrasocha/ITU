{
 "cells": [
  {
   "cell_type": "markdown",
   "metadata": {},
   "source": [
    "# Assignment 4\n",
    "#### Due October 7, 2020, 23:59\n",
    "\n",
    "In this week's assignment, we are going to study the populations of Danish municipalities using NumPy. \n",
    "\n",
    "We have provided you with a CSV-file called `populations.csv` which contains the population size of every municipality in Denmark over the course of 10 years. Each row contains the population of a single  municipality, and each column represents a year in the period 2010-2019. Below is a table with columns describing the data found in `populations.csv`. \n",
    "\n",
    "| 2010 | 2011 | 2012 | 2013 | 2014 | 2015 | 2016 | 2017 | 2018 | 2019 |\n",
    "| ---- | ---- | ---- | ---- | ---- | ---- | ---- | ---- | ---- | ---- |\n",
    "|528208|539542|549050|559440|569557|580184|591481|602481|613288|623404|\n",
    "|96718 |98782 |100215|102029|102717|103192|104481|105037|104410|103960|\n",
    "|...   |      |      |      |      |      |      |      |      |      |\n",
    "|197426|199188|201142|203448|205809|207805|210316|211937|213558|215312|\n",
    "\n",
    "\n",
    "*Note that the names of the municipalities are not directly described in this dataset. If you'd like to check out the original data it may be found on [statistikbanken.dk](https://www.statistikbanken.dk/statbank5a/default.asp?w=1920).*\n",
    "\n",
    "## Submission\n",
    "All exercises this week can and must be solved purely using numpy. This also means that there is no need for any loops or recursion nor any extra imports.\n",
    "\n",
    "As part of each exercise description, **the actual expected output is provided**. Your task is to figure out how to get a matching result, not necesarrily in looks but in numbers. More nicely formatted prints are very much allowed.\n",
    "\n",
    "Implement your solution to each of the exercises in the code field below the exercise description.\n",
    "\n",
    "\n",
    "- Edit and turn in this jupyter notebook file containing your solutions to each task -- keep the name `assignment4.ipynb`.\n",
    "- Make sure that we are able to run the notebook by placing our own copy of `populations.csv` inside the same folder as this notebook.\n",
    "\n",
    "\n",
    "## Assignment"
   ]
  },
  {
   "cell_type": "code",
   "execution_count": 2,
   "metadata": {},
   "outputs": [],
   "source": [
    "import numpy as np"
   ]
  },
  {
   "cell_type": "markdown",
   "metadata": {},
   "source": [
    "### Exercise 1\n",
    "Load the data from `populations.csv` into a matrix using numpy's `loadtxt()` function. Note that numpy defaults to delimit values by spaces. Address this by providing the correct delimiter as an argument to the function.\n",
    "\n",
    "Retrieve and print the number of rows and columns of the resulting matrix.\n",
    "____________________________\n",
    "\n",
    "rows: `99`\n",
    "columns: `10`"
   ]
  },
  {
   "cell_type": "code",
   "execution_count": 9,
   "metadata": {},
   "outputs": [
    {
     "name": "stdout",
     "output_type": "stream",
     "text": [
      "rows: 99 columns: 10\n"
     ]
    }
   ],
   "source": [
    "data = np.loadtxt('populations.csv',delimiter=',')\n",
    "rows, columns = data.shape\n",
    "print('rows:', rows, 'columns:',columns)\n"
   ]
  },
  {
   "cell_type": "markdown",
   "metadata": {},
   "source": [
    "### Exercise 2\n",
    "Extract a view of the population of all municipalities in the year 2018. With the extracted view, print the smallest and largest population using numpy functions.\n",
    "\n",
    "_______\n",
    "min: `83` \n",
    "max: `613288`"
   ]
  },
  {
   "cell_type": "code",
   "execution_count": 15,
   "metadata": {},
   "outputs": [
    {
     "name": "stdout",
     "output_type": "stream",
     "text": [
      "min: 83 max: 613288\n"
     ]
    }
   ],
   "source": [
    "pop_in_18 = data[:,8]\n",
    "max_18 = np.max(pop_in_18)\n",
    "min_18 = np.min(pop_in_18)\n",
    "\n",
    "print('min:', int(min_18), 'max:', int(max_18))\n"
   ]
  },
  {
   "cell_type": "markdown",
   "metadata": {},
   "source": [
    "### Exercise 3\n",
    "If you inspect the data more closely, you might notice that some values are negative. This is odd and doesn't make a whole lot of sense given that we are looking at the population in municipalities. It turns out that this specifically applies to all municipalities in the year 2014. \n",
    "\n",
    "Correct these values by setting the same population values, but the absolute (positive) value, via matrix slicing. Confirm that the values are now correct by printing the 2014 column.\n",
    "_______\n",
    "` [[569557] \n",
    "  [102717] \n",
    "  [ 13977] \n",
    "    ...    \n",
    "  [ 37479] \n",
    "  [205809]]`\n"
   ]
  },
  {
   "cell_type": "code",
   "execution_count": 28,
   "metadata": {},
   "outputs": [
    {
     "data": {
      "text/plain": [
       "array([[5.69557e+05],\n",
       "       [1.02717e+05],\n",
       "       [1.39770e+04],\n",
       "       [4.19920e+04],\n",
       "       [2.77280e+04],\n",
       "       [4.85140e+04],\n",
       "       [3.45800e+04],\n",
       "       [7.42820e+04],\n",
       "       [6.66560e+04],\n",
       "       [2.20660e+04],\n",
       "       [2.77060e+04],\n",
       "       [5.18420e+04],\n",
       "       [4.88070e+04],\n",
       "       [2.15470e+04],\n",
       "       [5.42370e+04],\n",
       "       [3.75520e+04],\n",
       "       [1.50950e+04],\n",
       "       [2.41750e+04],\n",
       "       [4.22100e+04],\n",
       "       [3.95850e+04],\n",
       "       [4.44010e+04],\n",
       "       [3.84920e+04],\n",
       "       [4.07780e+04],\n",
       "       [3.06470e+04],\n",
       "       [6.15190e+04],\n",
       "       [4.86950e+04],\n",
       "       [2.47090e+04],\n",
       "       [5.50340e+04],\n",
       "       [4.02150e+04],\n",
       "       [9.00000e+01],\n",
       "       [4.80950e+04],\n",
       "       [5.83740e+04],\n",
       "       [2.69890e+04],\n",
       "       [8.42190e+04],\n",
       "       [2.13390e+04],\n",
       "       [3.51190e+04],\n",
       "       [6.10070e+04],\n",
       "       [6.90160e+04],\n",
       "       [4.83580e+04],\n",
       "       [4.35280e+04],\n",
       "       [8.14320e+04],\n",
       "       [3.25340e+04],\n",
       "       [3.33490e+04],\n",
       "       [7.69480e+04],\n",
       "       [2.92990e+04],\n",
       "       [2.18250e+04],\n",
       "       [4.52950e+04],\n",
       "       [4.10370e+04],\n",
       "       [5.10780e+04],\n",
       "       [2.36650e+04],\n",
       "       [1.26950e+04],\n",
       "       [3.76850e+04],\n",
       "       [2.90660e+04],\n",
       "       [3.13140e+04],\n",
       "       [1.95797e+05],\n",
       "       [5.79790e+04],\n",
       "       [6.39300e+03],\n",
       "       [2.63180e+04],\n",
       "       [1.15095e+05],\n",
       "       [3.26400e+03],\n",
       "       [5.03240e+04],\n",
       "       [5.59060e+04],\n",
       "       [9.00660e+04],\n",
       "       [7.52640e+04],\n",
       "       [3.83160e+04],\n",
       "       [4.99580e+04],\n",
       "       [4.26670e+04],\n",
       "       [1.09652e+05],\n",
       "       [5.89700e+04],\n",
       "       [4.71630e+04],\n",
       "       [4.57150e+04],\n",
       "       [8.56620e+04],\n",
       "       [3.79250e+04],\n",
       "       [2.17730e+04],\n",
       "       [9.63430e+04],\n",
       "       [3.76700e+03],\n",
       "       [8.96330e+04],\n",
       "       [5.81760e+04],\n",
       "       [4.17190e+04],\n",
       "       [3.23893e+05],\n",
       "       [8.68420e+04],\n",
       "       [5.73380e+04],\n",
       "       [4.06020e+04],\n",
       "       [2.09330e+04],\n",
       "       [5.70930e+04],\n",
       "       [4.69420e+04],\n",
       "       [2.15330e+04],\n",
       "       [9.44860e+04],\n",
       "       [3.56270e+04],\n",
       "       [6.04580e+04],\n",
       "       [6.54050e+04],\n",
       "       [3.83510e+04],\n",
       "       [1.80800e+03],\n",
       "       [4.20930e+04],\n",
       "       [2.10030e+04],\n",
       "       [2.87940e+04],\n",
       "       [4.42300e+04],\n",
       "       [3.74790e+04],\n",
       "       [2.05809e+05]])"
      ]
     },
     "execution_count": 28,
     "metadata": {},
     "output_type": "execute_result"
    }
   ],
   "source": [
    "corrected = -data[:,4] #or np.abs(data[:,4]), but since we know that all data is negative we can use just '-' sign to turn in to positive.\n",
    "corrected.reshape(-1,1)"
   ]
  },
  {
   "cell_type": "markdown",
   "metadata": {},
   "source": [
    "### Exercise 4\n",
    "Extract a view of the populations in Denmarks three largest municipalities: København, Aarhus, and Aalborg for the year 2010 and the year 2019. The row indices for the municipalities in question can be found in the table below.\n",
    "\n",
    "| municipality | row index |\n",
    "| --- | --- |\n",
    "| København | 0 |\n",
    "| Aarhus | 79 | \n",
    "| Aalborg | 98 |\n",
    "\n",
    "Print the resulting view.\n",
    "____\n",
    "`[[528208, 623404],\n",
    "  [306650, 345332],\n",
    "  [197426, 215312]]`"
   ]
  },
  {
   "cell_type": "code",
   "execution_count": 54,
   "metadata": {},
   "outputs": [
    {
     "data": {
      "text/plain": [
       "array([[528208., 623404.],\n",
       "       [306650., 345332.],\n",
       "       [197426., 215312.]])"
      ]
     },
     "execution_count": 54,
     "metadata": {},
     "output_type": "execute_result"
    }
   ],
   "source": [
    "# row_idx = np.array([0, 79, 98])\n",
    "# col_idx = np.array([0, 9])\n",
    "# data[row_idx[:,None],col_idx]\n",
    "# row_idx[:,None]\n",
    "\n",
    "data[[0,79,98],:][:,[0,9]]"
   ]
  },
  {
   "cell_type": "markdown",
   "metadata": {},
   "source": [
    "### Exercise 5\n",
    "Given that we know the population of each municipality, we can compute the combined population of different parts of Denmark. \n",
    "\n",
    "For this exercise calculate and print the **combined** population of:\n",
    "1. København, Aarhus, and Aalborg for the year 2019\n",
    "2. All of Denmark for the year 2019\n",
    "___\n",
    "\n",
    "1: `1184048`\n",
    "2: `5806081`"
   ]
  },
  {
   "cell_type": "code",
   "execution_count": 60,
   "metadata": {},
   "outputs": [
    {
     "name": "stdout",
     "output_type": "stream",
     "text": [
      "København, Aarhus, and Aalborg for the year 2019: 1184048.0\n",
      "All of Denmark for the year 2019: 5806081.0\n"
     ]
    }
   ],
   "source": [
    "print('København, Aarhus, and Aalborg for the year 2019:', sum(data[[0,79,98],9]))\n",
    "print('All of Denmark for the year 2019:',sum(data[:,9]))"
   ]
  },
  {
   "cell_type": "markdown",
   "metadata": {},
   "source": [
    "### Exercise 6\n",
    "The final exercise is to investigate low-density settlements in Denmark. These are, according to Wikipedia ([link](https://en.wikipedia.org/wiki/Settlement_hierarchy#Low_Density)), settlements with less than 100,000 inhabitants. \n",
    "\n",
    "Create a mask that captures municipalities with populations that were < 100,000 in the year 2019. Use this mask to calculate and print:\n",
    "1. How many municipalities are low density settlements\n",
    "2. How many people in total live in these areas\n",
    "___\n",
    "1: `92`\n",
    "2: `4083409`"
   ]
  },
  {
   "cell_type": "code",
   "execution_count": 81,
   "metadata": {},
   "outputs": [],
   "source": [
    "mask = data[:,9] < 100000\n",
    "data_19 = data[:,9]"
   ]
  },
  {
   "cell_type": "code",
   "execution_count": 84,
   "metadata": {},
   "outputs": [
    {
     "name": "stdout",
     "output_type": "stream",
     "text": [
      "Count: 92 Sum: 4083409.0\n"
     ]
    }
   ],
   "source": [
    "print('Count:', len(data_19[mask]), end='')\n",
    "print(' Sum:', sum(data_19[mask]))\n"
   ]
  }
 ],
 "metadata": {
  "kernelspec": {
   "display_name": "Python 3",
   "language": "python",
   "name": "python3"
  },
  "language_info": {
   "codemirror_mode": {
    "name": "ipython",
    "version": 3
   },
   "file_extension": ".py",
   "mimetype": "text/x-python",
   "name": "python",
   "nbconvert_exporter": "python",
   "pygments_lexer": "ipython3",
   "version": "3.8.2"
  }
 },
 "nbformat": 4,
 "nbformat_minor": 4
}
